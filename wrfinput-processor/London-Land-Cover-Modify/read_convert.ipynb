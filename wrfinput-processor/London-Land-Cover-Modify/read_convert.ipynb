{
 "cells": [
  {
   "cell_type": "code",
   "execution_count": 1,
   "metadata": {},
   "outputs": [
    {
     "name": "stderr",
     "output_type": "stream",
     "text": [
      "/anaconda3/lib/python3.7/site-packages/dask/config.py:168: YAMLLoadWarning: calling yaml.load() without Loader=... is deprecated, as the default Loader is unsafe. Please read https://msg.pyyaml.org/load for full details.\n",
      "  data = yaml.load(f.read()) or {}\n",
      "/anaconda3/lib/python3.7/site-packages/distributed/config.py:20: YAMLLoadWarning: calling yaml.load() without Loader=... is deprecated, as the default Loader is unsafe. Please read https://msg.pyyaml.org/load for full details.\n",
      "  defaults = yaml.load(f)\n"
     ]
    }
   ],
   "source": [
    "import numpy as np\n",
    "import matplotlib.pyplot as plt\n",
    "import seaborn as sns\n",
    "import pandas as pd\n",
    "import xarray as xr\n",
    "from scipy.interpolate import griddata"
   ]
  },
  {
   "cell_type": "code",
   "execution_count": 2,
   "metadata": {},
   "outputs": [],
   "source": [
    "# df = pd.read_fwf('SUEWS_SiteSelect_sorted.txt')\n",
    "# df.columns=df.iloc[0]\n",
    "# df=df.reindex(df.index.drop(0))\n",
    "# df.drop(df.tail(2).index,inplace=True)\n",
    "# df= df.astype(float)\n",
    "# lat=df['lat']\n",
    "# lon=df['lng']"
   ]
  },
  {
   "cell_type": "code",
   "execution_count": 3,
   "metadata": {},
   "outputs": [
    {
     "name": "stderr",
     "output_type": "stream",
     "text": [
      "/anaconda3/lib/python3.7/site-packages/IPython/core/interactiveshell.py:3049: DtypeWarning: Columns (0,1,2,3,4,5,6,7,8,9,10,11,12,13,14,15,16,17,18,19,20,21,22,23,24,25,26,27,28,29,30,31,32,33,34,35,36,37,38,39,40,41,42,43,44,45,46,47,48,49,50,51,52,53,54,55,56,57,58,59,60,61,62,63,64,65,66,67,68,69,70,71,72,73,74,75,76,77,78,79,80,81,82,83,84,85,86,87,88,89,90,91,92,93,94,95,96,97,98,99,100,101,102,103,104,105) have mixed types. Specify dtype option on import or set low_memory=False.\n",
      "  interactivity=interactivity, compiler=compiler, result=result)\n"
     ]
    }
   ],
   "source": [
    "df = pd.read_csv('SUEWS_SiteSelect_v2017_2m_wall_limit.txt',sep='\\t')\n",
    "df.columns=df.iloc[0]\n",
    "df=df.reindex(df.index.drop(0))\n",
    "df.drop(df.tail(2).index,inplace=True)\n",
    "df= df.astype(float)\n",
    "lat=df['lat']\n",
    "lon=df['lng']"
   ]
  },
  {
   "cell_type": "code",
   "execution_count": 4,
   "metadata": {},
   "outputs": [],
   "source": [
    "# df = pd.read_csv('SUEWS_SiteSelect.txt',sep='\\t')\n",
    "# df.columns=df.iloc[0]\n",
    "# df=df.drop(df.index[0])\n",
    "# df.drop(df.tail(2).index,inplace=True)\n",
    "# df= df.astype(float)\n",
    "# lat=df['lat']\n",
    "# lon=df['lng']"
   ]
  },
  {
   "cell_type": "code",
   "execution_count": 5,
   "metadata": {},
   "outputs": [
    {
     "data": {
      "text/html": [
       "<div>\n",
       "<style scoped>\n",
       "    .dataframe tbody tr th:only-of-type {\n",
       "        vertical-align: middle;\n",
       "    }\n",
       "\n",
       "    .dataframe tbody tr th {\n",
       "        vertical-align: top;\n",
       "    }\n",
       "\n",
       "    .dataframe thead th {\n",
       "        text-align: right;\n",
       "    }\n",
       "</style>\n",
       "<table border=\"1\" class=\"dataframe\">\n",
       "  <thead>\n",
       "    <tr style=\"text-align: right;\">\n",
       "      <th></th>\n",
       "      <th>Grid</th>\n",
       "      <th>Year</th>\n",
       "      <th>StartDLS</th>\n",
       "      <th>EndDLS</th>\n",
       "      <th>lat</th>\n",
       "      <th>lng</th>\n",
       "      <th>Timezone</th>\n",
       "      <th>SurfaceArea</th>\n",
       "      <th>Alt</th>\n",
       "      <th>z</th>\n",
       "      <th>...</th>\n",
       "      <th>Fr_ESTMClass_Bldgs4</th>\n",
       "      <th>Fr_ESTMClass_Bldgs5</th>\n",
       "      <th>Code_ESTMClass_Bldgs1</th>\n",
       "      <th>Code_ESTMClass_Bldgs2</th>\n",
       "      <th>Code_ESTMClass_Bldgs3</th>\n",
       "      <th>Code_ESTMClass_Bldgs4</th>\n",
       "      <th>Code_ESTMClass_Bldgs5</th>\n",
       "      <th>!</th>\n",
       "      <th>Site</th>\n",
       "      <th>Reference</th>\n",
       "    </tr>\n",
       "  </thead>\n",
       "  <tbody>\n",
       "    <tr>\n",
       "      <th>1</th>\n",
       "      <td>63707.0</td>\n",
       "      <td>2015.0</td>\n",
       "      <td>85.0</td>\n",
       "      <td>302.0</td>\n",
       "      <td>51.4278</td>\n",
       "      <td>0.051611</td>\n",
       "      <td>0.0</td>\n",
       "      <td>1.0</td>\n",
       "      <td>0.0</td>\n",
       "      <td>17.452543</td>\n",
       "      <td>...</td>\n",
       "      <td>1.0</td>\n",
       "      <td>0.0</td>\n",
       "      <td>801.0</td>\n",
       "      <td>803.0</td>\n",
       "      <td>8021.0</td>\n",
       "      <td>8022.0</td>\n",
       "      <td>8041.0</td>\n",
       "      <td>NaN</td>\n",
       "      <td>NaN</td>\n",
       "      <td>NaN</td>\n",
       "    </tr>\n",
       "    <tr>\n",
       "      <th>2</th>\n",
       "      <td>64064.0</td>\n",
       "      <td>2015.0</td>\n",
       "      <td>85.0</td>\n",
       "      <td>302.0</td>\n",
       "      <td>51.4278</td>\n",
       "      <td>0.050174</td>\n",
       "      <td>0.0</td>\n",
       "      <td>1.0</td>\n",
       "      <td>0.0</td>\n",
       "      <td>19.013241</td>\n",
       "      <td>...</td>\n",
       "      <td>1.0</td>\n",
       "      <td>0.0</td>\n",
       "      <td>801.0</td>\n",
       "      <td>803.0</td>\n",
       "      <td>8021.0</td>\n",
       "      <td>8022.0</td>\n",
       "      <td>8041.0</td>\n",
       "      <td>NaN</td>\n",
       "      <td>NaN</td>\n",
       "      <td>NaN</td>\n",
       "    </tr>\n",
       "    <tr>\n",
       "      <th>3</th>\n",
       "      <td>64065.0</td>\n",
       "      <td>2015.0</td>\n",
       "      <td>85.0</td>\n",
       "      <td>302.0</td>\n",
       "      <td>51.4287</td>\n",
       "      <td>0.051553</td>\n",
       "      <td>0.0</td>\n",
       "      <td>1.0</td>\n",
       "      <td>0.0</td>\n",
       "      <td>22.478087</td>\n",
       "      <td>...</td>\n",
       "      <td>1.0</td>\n",
       "      <td>0.0</td>\n",
       "      <td>801.0</td>\n",
       "      <td>803.0</td>\n",
       "      <td>8021.0</td>\n",
       "      <td>8022.0</td>\n",
       "      <td>8041.0</td>\n",
       "      <td>NaN</td>\n",
       "      <td>NaN</td>\n",
       "      <td>NaN</td>\n",
       "    </tr>\n",
       "    <tr>\n",
       "      <th>4</th>\n",
       "      <td>64422.0</td>\n",
       "      <td>2015.0</td>\n",
       "      <td>85.0</td>\n",
       "      <td>302.0</td>\n",
       "      <td>51.4277</td>\n",
       "      <td>0.048738</td>\n",
       "      <td>0.0</td>\n",
       "      <td>1.0</td>\n",
       "      <td>0.0</td>\n",
       "      <td>16.552772</td>\n",
       "      <td>...</td>\n",
       "      <td>1.0</td>\n",
       "      <td>0.0</td>\n",
       "      <td>801.0</td>\n",
       "      <td>803.0</td>\n",
       "      <td>8021.0</td>\n",
       "      <td>8022.0</td>\n",
       "      <td>8041.0</td>\n",
       "      <td>NaN</td>\n",
       "      <td>NaN</td>\n",
       "      <td>NaN</td>\n",
       "    </tr>\n",
       "    <tr>\n",
       "      <th>5</th>\n",
       "      <td>64423.0</td>\n",
       "      <td>2015.0</td>\n",
       "      <td>85.0</td>\n",
       "      <td>302.0</td>\n",
       "      <td>51.4287</td>\n",
       "      <td>0.050116</td>\n",
       "      <td>0.0</td>\n",
       "      <td>1.0</td>\n",
       "      <td>0.0</td>\n",
       "      <td>19.044050</td>\n",
       "      <td>...</td>\n",
       "      <td>1.0</td>\n",
       "      <td>0.0</td>\n",
       "      <td>801.0</td>\n",
       "      <td>803.0</td>\n",
       "      <td>8021.0</td>\n",
       "      <td>8022.0</td>\n",
       "      <td>8041.0</td>\n",
       "      <td>NaN</td>\n",
       "      <td>NaN</td>\n",
       "      <td>NaN</td>\n",
       "    </tr>\n",
       "  </tbody>\n",
       "</table>\n",
       "<p>5 rows × 106 columns</p>\n",
       "</div>"
      ],
      "text/plain": [
       "0     Grid    Year  StartDLS  EndDLS      lat       lng  Timezone  \\\n",
       "1  63707.0  2015.0      85.0   302.0  51.4278  0.051611       0.0   \n",
       "2  64064.0  2015.0      85.0   302.0  51.4278  0.050174       0.0   \n",
       "3  64065.0  2015.0      85.0   302.0  51.4287  0.051553       0.0   \n",
       "4  64422.0  2015.0      85.0   302.0  51.4277  0.048738       0.0   \n",
       "5  64423.0  2015.0      85.0   302.0  51.4287  0.050116       0.0   \n",
       "\n",
       "0  SurfaceArea  Alt          z  ...  Fr_ESTMClass_Bldgs4  Fr_ESTMClass_Bldgs5  \\\n",
       "1          1.0  0.0  17.452543  ...                  1.0                  0.0   \n",
       "2          1.0  0.0  19.013241  ...                  1.0                  0.0   \n",
       "3          1.0  0.0  22.478087  ...                  1.0                  0.0   \n",
       "4          1.0  0.0  16.552772  ...                  1.0                  0.0   \n",
       "5          1.0  0.0  19.044050  ...                  1.0                  0.0   \n",
       "\n",
       "0  Code_ESTMClass_Bldgs1  Code_ESTMClass_Bldgs2  Code_ESTMClass_Bldgs3  \\\n",
       "1                  801.0                  803.0                 8021.0   \n",
       "2                  801.0                  803.0                 8021.0   \n",
       "3                  801.0                  803.0                 8021.0   \n",
       "4                  801.0                  803.0                 8021.0   \n",
       "5                  801.0                  803.0                 8021.0   \n",
       "\n",
       "0  Code_ESTMClass_Bldgs4  Code_ESTMClass_Bldgs5   !  Site  Reference  \n",
       "1                 8022.0                 8041.0 NaN   NaN        NaN  \n",
       "2                 8022.0                 8041.0 NaN   NaN        NaN  \n",
       "3                 8022.0                 8041.0 NaN   NaN        NaN  \n",
       "4                 8022.0                 8041.0 NaN   NaN        NaN  \n",
       "5                 8022.0                 8041.0 NaN   NaN        NaN  \n",
       "\n",
       "[5 rows x 106 columns]"
      ]
     },
     "execution_count": 5,
     "metadata": {},
     "output_type": "execute_result"
    }
   ],
   "source": [
    "df.head()"
   ]
  },
  {
   "cell_type": "code",
   "execution_count": null,
   "metadata": {},
   "outputs": [],
   "source": []
  },
  {
   "cell_type": "code",
   "execution_count": 6,
   "metadata": {},
   "outputs": [],
   "source": [
    "from pyproj import Proj, transform\n",
    "\n",
    "# p2_text='''\n",
    "# +units=m +init=ESRI:102009 +proj=lcc +lat_1=30 +lat_2=60 +lat_0=51.51 +lon_0=0.13 \n",
    "# +x_0=0 +y_0=0 +ellps=WGS84 +datum=WGS84 +no_defs +towgs84=0,0,0\n",
    "# '''\n",
    "\n",
    "p2_text='''\n",
    "+units=m +init=ESRI:102009 +proj=lcc +lat_1=30 +lat_2=60 +lat_0=51.51 +lon_0=-0.96 \n",
    "+x_0=0 +y_0=0 +ellps=WGS84 +datum=WGS84 +no_defs +towgs84=0,0,0\n",
    "'''\n",
    "\n",
    "p1 = Proj(init='epsg:32631')\n",
    "p2 = Proj(p2_text)\n",
    "x1, y1 = p1(list(lon),list(lat))\n",
    "x2, y2 = transform(p1,p2,x1,y1)"
   ]
  },
  {
   "cell_type": "code",
   "execution_count": 7,
   "metadata": {},
   "outputs": [],
   "source": [
    "x_file='wrfinput_d03.suews'\n",
    "ds_base = xr.open_dataset(x_file)\n",
    "wrf_LAT=ds_base.XLAT.values[0,:,:]\n",
    "wrf_LON=ds_base.XLONG.values[0,:,:]\n",
    "\n",
    "\n",
    "wrf_X,wrf_Y=p2(wrf_LON,wrf_LAT)"
   ]
  },
  {
   "cell_type": "code",
   "execution_count": 9,
   "metadata": {},
   "outputs": [],
   "source": [
    "def pc_plot(grid_x, grid_y,new_Z,name):\n",
    "    plt.figure(figsize=(10,10))\n",
    "    plt.pcolor(grid_x, grid_y,new_Z)\n",
    "    plt.colorbar()\n",
    "    plt.title(name)\n",
    "    plt.ylabel('y')\n",
    "    plt.xlabel('x')\n",
    "    "
   ]
  },
  {
   "cell_type": "code",
   "execution_count": 10,
   "metadata": {},
   "outputs": [],
   "source": [
    "def regrid_lower(name):\n",
    "    Z=df[name]\n",
    "    grid_x=wrf_X\n",
    "    grid_y=wrf_Y\n",
    "    new_Z=griddata(list(zip(x2,y2)), Z.values, (grid_x, grid_y), method='linear')\n",
    "    #pc_plot(grid_x, grid_y,new_Z,name)\n",
    "    return grid_x, grid_y,new_Z"
   ]
  },
  {
   "cell_type": "code",
   "execution_count": 40,
   "metadata": {
    "scrolled": false
   },
   "outputs": [
    {
     "name": "stdout",
     "output_type": "stream",
     "text": [
      "H_Bldgs\n",
      "H_EveTr\n",
      "H_DecTr\n"
     ]
    }
   ],
   "source": [
    "names=['H_Bldgs','H_EveTr','H_DecTr']\n",
    "names_wrf=['bldgH_SUEWS','EveTreeH_SUEWS','DecTreeH_SUEWS']\n",
    "\n",
    "for name,name_wrf in zip(names,names_wrf):\n",
    "    print(name)\n",
    "    grid_x, grid_y,new_0=regrid_lower(name)\n",
    "    #new_all.update( {name : new_0} )\n",
    "    ds_var=ds_base[name_wrf.upper()].values[0,:,:]\n",
    "    ds_var[~np.isnan(new_0)]=new_0[~np.isnan(new_0)]\n",
    "    zz=ds_base[name_wrf.upper()].values[0,:,:]\n",
    "    zz[zz<0]=0\n",
    "    ds_base[name_wrf.upper()].values[0,:,:]=zz"
   ]
  },
  {
   "cell_type": "code",
   "execution_count": 10,
   "metadata": {},
   "outputs": [
    {
     "ename": "NameError",
     "evalue": "name 'grid_x' is not defined",
     "output_type": "error",
     "traceback": [
      "\u001b[0;31m---------------------------------------------------------------------------\u001b[0m",
      "\u001b[0;31mNameError\u001b[0m                                 Traceback (most recent call last)",
      "\u001b[0;32m<ipython-input-10-2488ea607025>\u001b[0m in \u001b[0;36m<module>\u001b[0;34m\u001b[0m\n\u001b[0;32m----> 1\u001b[0;31m \u001b[0mpc_plot\u001b[0m\u001b[0;34m(\u001b[0m\u001b[0mgrid_x\u001b[0m\u001b[0;34m,\u001b[0m \u001b[0mgrid_y\u001b[0m\u001b[0;34m,\u001b[0m\u001b[0mzz\u001b[0m\u001b[0;34m,\u001b[0m\u001b[0;34m'new'\u001b[0m\u001b[0;34m)\u001b[0m\u001b[0;34m\u001b[0m\u001b[0;34m\u001b[0m\u001b[0m\n\u001b[0m",
      "\u001b[0;31mNameError\u001b[0m: name 'grid_x' is not defined"
     ]
    }
   ],
   "source": [
    "pc_plot(grid_x, grid_y,zz,'new')"
   ]
  },
  {
   "cell_type": "code",
   "execution_count": 11,
   "metadata": {},
   "outputs": [
    {
     "name": "stdout",
     "output_type": "stream",
     "text": [
      "PopDensNight\n",
      "PopDensNight\n"
     ]
    },
    {
     "data": {
      "image/png": "[encoded data removed]",
      "text/plain": [
       "<Figure size 720x720 with 2 Axes>"
      ]
     },
     "metadata": {
      "needs_background": "light"
     },
     "output_type": "display_data"
    }
   ],
   "source": [
    "names=['PopDensNight','PopDensNight']\n",
    "names_wrf=['PopDensNightTime_SUEWS','PopDensDayTime_SUEWS']\n",
    "\n",
    "for name,name_wrf in zip(names,names_wrf):\n",
    "    print(name)\n",
    "    grid_x, grid_y,new_0=regrid_lower(name)\n",
    "    #new_all.update( {name : new_0} )\n",
    "    ds_var=ds_base[name_wrf.upper()].values[0,:,:]\n",
    "    ds_var[~np.isnan(new_0)]=new_0[~np.isnan(new_0)]\n",
    "    zz=ds_base[name_wrf.upper()].values[0,:,:]\n",
    "    zz[zz<0]=0\n",
    "    ds_base[name_wrf.upper()].values[0,:,:]=zz\n",
    "pc_plot(wrf_X, wrf_Y,ds_base['PopDensNightTime_SUEWS'.upper()].values[0,:,:],'new')"
   ]
  },
  {
   "cell_type": "code",
   "execution_count": 43,
   "metadata": {},
   "outputs": [
    {
     "name": "stdout",
     "output_type": "stream",
     "text": [
      "Fr_Paved\n",
      "Fr_Bldgs\n",
      "Fr_EveTr\n",
      "Fr_DecTr\n",
      "Fr_Grass\n",
      "Fr_Bsoil\n",
      "Fr_Water\n"
     ]
    }
   ],
   "source": [
    "names=['Fr_Paved' ,'Fr_Bldgs' ,'Fr_EveTr' ,'Fr_DecTr' ,'Fr_Grass' ,'Fr_Bsoil','Fr_Water']\n",
    "new_all={}\n",
    "for name in names:\n",
    "    print(name)\n",
    "    grid_x, grid_y,new_0=regrid_lower(name)\n",
    "    new_all[name]=new_0"
   ]
  },
  {
   "cell_type": "code",
   "execution_count": 44,
   "metadata": {},
   "outputs": [],
   "source": [
    "new_0=new_all['Fr_Paved']\n",
    "cd=~np.isnan(new_0)\n",
    "ds_base['LANDUSEF'].values[0,12,:,:][cd]=new_all['Fr_Paved'][cd]+new_all['Fr_Bldgs'][cd]\n",
    "\n",
    "ds_base['LANDUSEF'].values[0,0,:,:][cd]=new_all['Fr_EveTr'][cd]/3\n",
    "ds_base['LANDUSEF'].values[0,1,:,:][cd]=new_all['Fr_EveTr'][cd]/3\n",
    "ds_base['LANDUSEF'].values[0,4,:,:][cd]=new_all['Fr_EveTr'][cd]/3\n",
    "\n",
    "ds_base['LANDUSEF'].values[0,2,:,:][cd]=new_all['Fr_DecTr'][cd]/2\n",
    "ds_base['LANDUSEF'].values[0,3,:,:][cd]=new_all['Fr_DecTr'][cd]/2\n",
    "\n",
    "ds_base['LANDUSEF'].values[0,5,:,:][cd]=new_all['Fr_Grass'][cd]/7\n",
    "ds_base['LANDUSEF'].values[0,6,:,:][cd]=new_all['Fr_Grass'][cd]/7\n",
    "ds_base['LANDUSEF'].values[0,7,:,:][cd]=new_all['Fr_Grass'][cd]/7\n",
    "ds_base['LANDUSEF'].values[0,8,:,:][cd]=new_all['Fr_Grass'][cd]/7\n",
    "ds_base['LANDUSEF'].values[0,9,:,:][cd]=new_all['Fr_Grass'][cd]/7\n",
    "ds_base['LANDUSEF'].values[0,11,:,:][cd]=new_all['Fr_Grass'][cd]/7\n",
    "ds_base['LANDUSEF'].values[0,13,:,:][cd]=new_all['Fr_Grass'][cd]/7\n",
    "\n",
    "ds_base['LANDUSEF'].values[0,15,:,:][cd]=new_all['Fr_Bsoil'][cd]/4\n",
    "ds_base['LANDUSEF'].values[0,17,:,:][cd]=new_all['Fr_Bsoil'][cd]/4\n",
    "ds_base['LANDUSEF'].values[0,18,:,:][cd]=new_all['Fr_Bsoil'][cd]/4\n",
    "ds_base['LANDUSEF'].values[0,19,:,:][cd]=new_all['Fr_Bsoil'][cd]/4\n",
    "\n",
    "\n",
    "ds_base['LANDUSEF'].values[0,10,:,:][cd]=new_all['Fr_Water'][cd]/2\n",
    "ds_base['LANDUSEF'].values[0,16,:,:][cd]=new_all['Fr_Water'][cd]/2"
   ]
  },
  {
   "cell_type": "code",
   "execution_count": null,
   "metadata": {},
   "outputs": [],
   "source": [
    "pc_plot(wrf_X, wrf_Y,ds_base['LANDUSEF'].values[0,12,:,:],'new')"
   ]
  },
  {
   "cell_type": "code",
   "execution_count": 15,
   "metadata": {},
   "outputs": [
    {
     "name": "stdout",
     "output_type": "stream",
     "text": [
      "SUEWS input has beened added to:wrfinput_d03.suews.new\n"
     ]
    }
   ],
   "source": [
    "ds_merged = ds_base.update(ds_base)    \n",
    "\n",
    "for var in ds_merged.data_vars.keys():\n",
    "    if 'coordinates' in ds_merged[var].attrs:\n",
    "        del ds_merged[var].attrs['coordinates']\n",
    "        \n",
    "file_out = x_file+'.new'\n",
    "\n",
    "ds_merged.to_netcdf(file_out,\n",
    "                    mode='w', format='NETCDF3_64BIT')\n",
    "print('SUEWS input has beened added to:' + file_out)"
   ]
  },
  {
   "cell_type": "code",
   "execution_count": null,
   "metadata": {},
   "outputs": [],
   "source": []
  },
  {
   "cell_type": "code",
   "execution_count": null,
   "metadata": {},
   "outputs": [],
   "source": []
  }
 ],
 "metadata": {
  "kernelspec": {
   "display_name": "Python 3",
   "language": "python",
   "name": "python3"
  },
  "language_info": {
   "codemirror_mode": {
    "name": "ipython",
    "version": 3
   },
   "file_extension": ".py",
   "mimetype": "text/x-python",
   "name": "python",
   "nbconvert_exporter": "python",
   "pygments_lexer": "ipython3",
   "version": "3.7.3"
  }
 },
 "nbformat": 4,
 "nbformat_minor": 2
}
