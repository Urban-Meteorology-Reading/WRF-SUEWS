{
 "cells": [
  {
   "cell_type": "code",
   "execution_count": 1,
   "metadata": {},
   "outputs": [
    {
     "name": "stderr",
     "output_type": "stream",
     "text": [
      "/anaconda3/lib/python3.7/site-packages/dask/config.py:168: YAMLLoadWarning: calling yaml.load() without Loader=... is deprecated, as the default Loader is unsafe. Please read https://msg.pyyaml.org/load for full details.\n",
      "  data = yaml.load(f.read()) or {}\n",
      "/anaconda3/lib/python3.7/site-packages/distributed/config.py:20: YAMLLoadWarning: calling yaml.load() without Loader=... is deprecated, as the default Loader is unsafe. Please read https://msg.pyyaml.org/load for full details.\n",
      "  defaults = yaml.load(f)\n"
     ]
    }
   ],
   "source": [
    "import numpy as np\n",
    "import matplotlib.pyplot as plt\n",
    "import seaborn as sns\n",
    "import pandas as pd\n",
    "import xarray as xr\n",
    "from scipy.interpolate import griddata"
   ]
  },
  {
   "cell_type": "code",
   "execution_count": 2,
   "metadata": {},
   "outputs": [],
   "source": [
    "df = pd.read_fwf('SUEWS_SiteSelect_sorted.txt')\n",
    "df.columns=df.iloc[0]\n",
    "df=df.reindex(df.index.drop(0))\n",
    "df.drop(df.tail(2).index,inplace=True)\n",
    "df= df.astype(float)\n",
    "lat=df['lat']\n",
    "lon=df['lng']"
   ]
  },
  {
   "cell_type": "code",
   "execution_count": 3,
   "metadata": {},
   "outputs": [],
   "source": [
    "x_file='wrfinput_d03.suews'\n",
    "ds_base = xr.open_dataset(x_file)\n",
    "wrf_Y=ds_base.XLAT.values[0,:,:]\n",
    "wrf_X=ds_base.XLONG.values[0,:,:]"
   ]
  },
  {
   "cell_type": "code",
   "execution_count": 4,
   "metadata": {},
   "outputs": [],
   "source": [
    "def pc_plot(grid_x, grid_y,new_Z,name):\n",
    "    plt.figure(figsize=(10,10))\n",
    "    plt.pcolor(grid_x, grid_y,new_Z)\n",
    "    plt.colorbar()\n",
    "    plt.title(name)\n",
    "    plt.ylabel('lat')\n",
    "    plt.xlabel('lon')\n",
    "    "
   ]
  },
  {
   "cell_type": "code",
   "execution_count": 5,
   "metadata": {},
   "outputs": [],
   "source": [
    "def regrid_lower(name):\n",
    "    Z=df[name]\n",
    "    grid_x=wrf_X\n",
    "    grid_y=wrf_Y\n",
    "    new_Z=griddata(list(zip(lon,lat)), Z.values, (grid_x, grid_y), method='linear')\n",
    "    #pc_plot(grid_x, grid_y,new_Z,name)\n",
    "    return grid_x, grid_y,new_Z"
   ]
  },
  {
   "cell_type": "code",
   "execution_count": 6,
   "metadata": {
    "scrolled": false
   },
   "outputs": [],
   "source": [
    "#names=['H_EveTr']\n",
    "#names_wrf=['EveTreeH_SUEWS']\n",
    "#new_all={}\n",
    "\n",
    "#for name,name_wrf in zip(names,names_wrf):\n",
    "    #grid_x, grid_y,new_0=regrid_lower(name)\n",
    "    #new_all.update( {name : new_0} )\n",
    "    #ds_var=ds_base[name_wrf.upper()].values[0,:,:]\n",
    "    #ds_var[~np.isnan(new_0)]=new_0[~np.isnan(new_0)]\n",
    "\n",
    "    \n",
    "    \n",
    "#sum_all=0*new_all[names[0]]\n",
    "#for key in new_all.keys():\n",
    "#    sum_all=sum_all+new_all[key]\n",
    "#pc_plot(grid_x, grid_y,sum_all,'sum of all fractions')"
   ]
  },
  {
   "cell_type": "code",
   "execution_count": 7,
   "metadata": {},
   "outputs": [
    {
     "name": "stdout",
     "output_type": "stream",
     "text": [
      "Fr_Paved\n",
      "Fr_Bldgs\n",
      "Fr_EveTr\n",
      "Fr_DecTr\n",
      "Fr_Grass\n",
      "Fr_Bsoil\n",
      "Fr_Water\n"
     ]
    }
   ],
   "source": [
    "names=['Fr_Paved' ,'Fr_Bldgs' ,'Fr_EveTr' ,'Fr_DecTr' ,'Fr_Grass' ,'Fr_Bsoil','Fr_Water']\n",
    "new_all={}\n",
    "for name in names:\n",
    "    print(name)\n",
    "    grid_x, grid_y,new_0=regrid_lower(name)\n",
    "    new_all[name]=new_0"
   ]
  },
  {
   "cell_type": "code",
   "execution_count": 445,
   "metadata": {},
   "outputs": [],
   "source": [
    "new_0=new_all['Fr_Paved']\n",
    "cd=~np.isnan(new_0)\n",
    "ds_base['LANDUSEF'].values[0,12,:,:][cd]=new_all['Fr_Paved'][cd]+new_all['Fr_Bldgs'][cd]\n",
    "\n",
    "ds_base['LANDUSEF'].values[0,0,:,:][cd]=new_all['Fr_EveTr'][cd]/3\n",
    "ds_base['LANDUSEF'].values[0,1,:,:][cd]=new_all['Fr_EveTr'][cd]/3\n",
    "ds_base['LANDUSEF'].values[0,4,:,:][cd]=new_all['Fr_EveTr'][cd]/3\n",
    "\n",
    "ds_base['LANDUSEF'].values[0,2,:,:][cd]=new_all['Fr_DecTr'][cd]/2\n",
    "ds_base['LANDUSEF'].values[0,3,:,:][cd]=new_all['Fr_DecTr'][cd]/2\n",
    "\n",
    "ds_base['LANDUSEF'].values[0,5,:,:][cd]=new_all['Fr_Grass'][cd]/7\n",
    "ds_base['LANDUSEF'].values[0,6,:,:][cd]=new_all['Fr_Grass'][cd]/7\n",
    "ds_base['LANDUSEF'].values[0,7,:,:][cd]=new_all['Fr_Grass'][cd]/7\n",
    "ds_base['LANDUSEF'].values[0,8,:,:][cd]=new_all['Fr_Grass'][cd]/7\n",
    "ds_base['LANDUSEF'].values[0,9,:,:][cd]=new_all['Fr_Grass'][cd]/7\n",
    "ds_base['LANDUSEF'].values[0,11,:,:][cd]=new_all['Fr_Grass'][cd]/7\n",
    "ds_base['LANDUSEF'].values[0,13,:,:][cd]=new_all['Fr_Grass'][cd]/7\n",
    "\n",
    "ds_base['LANDUSEF'].values[0,15,:,:][cd]=new_all['Fr_Bsoil'][cd]/4\n",
    "ds_base['LANDUSEF'].values[0,17,:,:][cd]=new_all['Fr_Bsoil'][cd]/4\n",
    "ds_base['LANDUSEF'].values[0,18,:,:][cd]=new_all['Fr_Bsoil'][cd]/4\n",
    "ds_base['LANDUSEF'].values[0,19,:,:][cd]=new_all['Fr_Bsoil'][cd]/4\n",
    "\n",
    "\n",
    "ds_base['LANDUSEF'].values[0,10,:,:][cd]=new_all['Fr_Water'][cd]/2\n",
    "ds_base['LANDUSEF'].values[0,16,:,:][cd]=new_all['Fr_Water'][cd]/2"
   ]
  },
  {
   "cell_type": "code",
   "execution_count": 446,
   "metadata": {},
   "outputs": [
    {
     "data": {
      "image/png": "[encoded data removed]",
      "text/plain": [
       "<Figure size 720x720 with 2 Axes>"
      ]
     },
     "metadata": {
      "needs_background": "light"
     },
     "output_type": "display_data"
    }
   ],
   "source": [
    "pc_plot(wrf_X, wrf_Y,ds_base['LANDUSEF'].values[0,12,:,:],'new')"
   ]
  },
  {
   "cell_type": "code",
   "execution_count": 447,
   "metadata": {},
   "outputs": [
    {
     "name": "stdout",
     "output_type": "stream",
     "text": [
      "SUEWS input has beened added to:wrfinput_d03.suews.new\n"
     ]
    }
   ],
   "source": [
    "ds_merged = ds_base.update(ds_base)    \n",
    "\n",
    "for var in ds_merged.data_vars.keys():\n",
    "    if 'coordinates' in ds_merged[var].attrs:\n",
    "        del ds_merged[var].attrs['coordinates']\n",
    "        \n",
    "file_out = x_file+'.new'\n",
    "\n",
    "ds_merged.to_netcdf(file_out,\n",
    "                    mode='w', format='NETCDF3_64BIT')\n",
    "print('SUEWS input has beened added to:' + file_out)"
   ]
  },
  {
   "cell_type": "code",
   "execution_count": null,
   "metadata": {},
   "outputs": [],
   "source": []
  },
  {
   "cell_type": "code",
   "execution_count": null,
   "metadata": {},
   "outputs": [],
   "source": []
  }
 ],
 "metadata": {
  "kernelspec": {
   "display_name": "Python 3",
   "language": "python",
   "name": "python3"
  },
  "language_info": {
   "codemirror_mode": {
    "name": "ipython",
    "version": 3
   },
   "file_extension": ".py",
   "mimetype": "text/x-python",
   "name": "python",
   "nbconvert_exporter": "python",
   "pygments_lexer": "ipython3",
   "version": "3.7.3"
  }
 },
 "nbformat": 4,
 "nbformat_minor": 2
}
