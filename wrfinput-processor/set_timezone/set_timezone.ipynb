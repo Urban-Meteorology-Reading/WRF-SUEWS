{
 "cells": [
  {
   "cell_type": "code",
   "execution_count": 1,
   "metadata": {},
   "outputs": [],
   "source": [
    "import geopandas as gpd\n",
    "from pyproj import Proj, transform\n",
    "from glob import glob\n",
    "import numpy as np\n",
    "import matplotlib.pyplot as plt\n",
    "import seaborn as sns\n",
    "import pandas as pd\n",
    "import xarray as xr\n",
    "from scipy.interpolate import griddata\n",
    "from mpl_toolkits.axes_grid1 import make_axes_locatable\n",
    "import matplotlib.colors as colors\n",
    "import datetime\n",
    "import pytz\n",
    "from tzwhere import tzwhere\n",
    "from timezonefinder import TimezoneFinder"
   ]
  },
  {
   "cell_type": "code",
   "execution_count": 2,
   "metadata": {},
   "outputs": [],
   "source": [
    "def get_timezone(lat,lon):\n",
    "    tf = TimezoneFinder(in_memory=True)\n",
    "    timezone_str = tf.closest_timezone_at(lng=lon, lat=lat)\n",
    "    timezone = pytz.timezone(timezone_str)\n",
    "    dt = datetime.datetime(2019,1,1)\n",
    "    offset=timezone.utcoffset(dt)\n",
    "    return offset.total_seconds()/3600\n"
   ]
  },
  {
   "cell_type": "code",
   "execution_count": null,
   "metadata": {},
   "outputs": [],
   "source": [
    "x_files=sorted(glob('wrfinput_d0*'))\n",
    "for x_file in x_files:\n",
    "    print('working on '+x_file)\n",
    "    ds_base = xr.open_dataset(x_file)\n",
    "    \n",
    "    wrf_LAT=ds_base.XLAT.values[0,:,:]\n",
    "    wrf_LON=ds_base.XLONG.values[0,:,:]\n",
    "    \n",
    "    for i in range(wrf_LAT.shape[0]):\n",
    "        for j in range(wrf_LON.shape[0]):\n",
    "            lat=wrf_LAT[i,j]\n",
    "            lon=wrf_LON[i,j]\n",
    "            ds_base['timezone_SUEWS'.upper()].values[0,i,j]=get_timezone(lat,lon)\n",
    "\n",
    "\n",
    "    ds_merged = ds_base.update(ds_base)    \n",
    "\n",
    "    for var in ds_merged.data_vars.keys():\n",
    "        if 'coordinates' in ds_merged[var].attrs:\n",
    "            del ds_merged[var].attrs['coordinates']\n",
    "\n",
    "    file_out = x_file+'.new'\n",
    "\n",
    "    ds_merged.to_netcdf(file_out,\n",
    "                        mode='w', format='NETCDF3_64BIT')\n",
    "    print('SUEWS input has been added to:' + file_out)"
   ]
  },
  {
   "cell_type": "code",
   "execution_count": null,
   "metadata": {},
   "outputs": [],
   "source": []
  },
  {
   "cell_type": "code",
   "execution_count": null,
   "metadata": {},
   "outputs": [],
   "source": []
  },
  {
   "cell_type": "code",
   "execution_count": null,
   "metadata": {},
   "outputs": [],
   "source": []
  }
 ],
 "metadata": {
  "kernelspec": {
   "display_name": "Python 3",
   "language": "python",
   "name": "python3"
  },
  "language_info": {
   "codemirror_mode": {
    "name": "ipython",
    "version": 3
   },
   "file_extension": ".py",
   "mimetype": "text/x-python",
   "name": "python",
   "nbconvert_exporter": "python",
   "pygments_lexer": "ipython3",
   "version": "3.7.3"
  }
 },
 "nbformat": 4,
 "nbformat_minor": 2
}
