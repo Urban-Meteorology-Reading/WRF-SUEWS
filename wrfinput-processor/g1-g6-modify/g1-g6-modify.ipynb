{
 "cells": [
  {
   "cell_type": "code",
   "execution_count": 1,
   "metadata": {},
   "outputs": [],
   "source": [
    "import glob\n",
    "import geopandas as gpd\n",
    "from pyproj import Proj, transform\n",
    "import numpy as np\n",
    "import matplotlib.pyplot as plt\n",
    "import seaborn as sns\n",
    "import pandas as pd\n",
    "import xarray as xr\n",
    "from scipy.interpolate import griddata\n",
    "from mpl_toolkits.axes_grid1 import make_axes_locatable\n",
    "import matplotlib.colors as colors"
   ]
  },
  {
   "cell_type": "code",
   "execution_count": 2,
   "metadata": {},
   "outputs": [],
   "source": [
    "\n",
    "def mod_gs(g1,g2,g3,g4,g5,g6,maxg,maxlai,i,j):\n",
    "    \n",
    "    ds_base['G1'].values[0,i,j]=g1\n",
    "    ds_base['G2'].values[0,i,j]=g2\n",
    "    ds_base['G3'].values[0,i,j]=g3\n",
    "    ds_base['G4'].values[0,i,j]=g4\n",
    "    ds_base['G5'].values[0,i,j]=g5\n",
    "    ds_base['G6'].values[0,i,j]=g6\n",
    "    \n",
    "    ds_base['MaxConductance_SUEWS'.upper()].values[0,:,i,j]=maxg\n",
    "    ds_base['LaiMax_SUEWS'.upper()].values[0,:,i,j]=maxlai\n",
    "    "
   ]
  },
  {
   "cell_type": "code",
   "execution_count": 3,
   "metadata": {},
   "outputs": [
    {
     "name": "stdout",
     "output_type": "stream",
     "text": [
      "working on wrfinput_d04.suews\n",
      "SUEWS input has been added to:wrfinput_d04.suews.new\n",
      "working on wrfinput_d02.suews\n",
      "SUEWS input has been added to:wrfinput_d02.suews.new\n",
      "working on wrfinput_d03.suews\n",
      "SUEWS input has been added to:wrfinput_d03.suews.new\n",
      "working on wrfinput_d01.suews\n",
      "SUEWS input has been added to:wrfinput_d01.suews.new\n"
     ]
    }
   ],
   "source": [
    "x_files=glob.glob('wrfinput_d0*')\n",
    "\n",
    "for x_file in x_files:\n",
    "    print('working on '+x_file)\n",
    "    ds_base = xr.open_dataset(x_file)\n",
    "    a={}\n",
    "    b=ds_base['LANDUSEF'].copy()\n",
    "    a['urban']=b.values[0,12,:,:]\n",
    "    a['dectr']=b.values[0,2,:,:]*2\n",
    "    a['evetr']=b.values[0,0,:,:]*3\n",
    "    a['grass']=b.values[0,5,:,:]*7\n",
    "    a['bsoil']=b.values[0,15,:,:]*4\n",
    "    a['water']=b.values[0,10,:,:]*2\n",
    "    \n",
    "    \n",
    "\n",
    "\n",
    "    for i in range(a['urban'].shape[0]):\n",
    "        for j in range(a['urban'].shape[1]):\n",
    "\n",
    "            mx_fr=np.max([a['urban'][i,j],a['evetr'][i,j],a['dectr'][i,j],a['grass'][i,j],a['bsoil'][i,j],a['bsoil'][i,j]])\n",
    "\n",
    "            if mx_fr==a['urban'][i,j]:\n",
    "                mod_gs(1,251.15,0.52,0.73,1.58,0.0031,10.64,0.24,i,j)\n",
    "\n",
    "            elif mx_fr==a['dectr'][i,j]:\n",
    "                mod_gs(1,292.59,0.167,0.705,54.9,0.023,166.65,4.93,i,j)\n",
    "\n",
    "            elif mx_fr==a['evetr'][i,j]:\n",
    "                mod_gs(1,498.17,0.8,0.23,54.97,0.009,28.19,5.1,i,j)\n",
    "\n",
    "            elif mx_fr==a['grass'][i,j]:\n",
    "                mod_gs(1,266.15,0.78,0.74,18.03,0.038,9.57,2.7,i,j)\n",
    "            else:\n",
    "                mod_gs(1,251.15,0.52,0.73,1.58,0.0031,10.64,0.24,i,j)\n",
    "    \n",
    "    \n",
    "\n",
    "    ds_merged = ds_base.update(ds_base)    \n",
    "    for var in ds_merged.data_vars.keys():\n",
    "        if 'coordinates' in ds_merged[var].attrs:\n",
    "            del ds_merged[var].attrs['coordinates']\n",
    "\n",
    "    file_out = x_file+'.new'\n",
    "\n",
    "    ds_merged.to_netcdf(file_out,\n",
    "                        mode='w', format='NETCDF3_64BIT')\n",
    "    print('SUEWS input has been added to:' + file_out)"
   ]
  },
  {
   "cell_type": "code",
   "execution_count": null,
   "metadata": {},
   "outputs": [],
   "source": []
  }
 ],
 "metadata": {
  "kernelspec": {
   "display_name": "Python 3",
   "language": "python",
   "name": "python3"
  },
  "language_info": {
   "codemirror_mode": {
    "name": "ipython",
    "version": 3
   },
   "file_extension": ".py",
   "mimetype": "text/x-python",
   "name": "python",
   "nbconvert_exporter": "python",
   "pygments_lexer": "ipython3",
   "version": "3.7.3"
  }
 },
 "nbformat": 4,
 "nbformat_minor": 2
}
