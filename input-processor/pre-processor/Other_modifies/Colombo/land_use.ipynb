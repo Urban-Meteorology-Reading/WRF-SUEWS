{
 "cells": [
  {
   "cell_type": "code",
   "execution_count": 86,
   "metadata": {},
   "outputs": [],
   "source": [
    "import numpy as np\n",
    "import matplotlib.pyplot as plt\n",
    "import seaborn as sns\n",
    "import pandas as pd\n",
    "import xarray as xr\n",
    "from scipy.interpolate import griddata\n",
    "import geopandas as gpd\n",
    "from pyproj import Proj, transform\n",
    "from mpl_toolkits.axes_grid1 import make_axes_locatable\n",
    "import matplotlib.colors as colors\n",
    "import glob"
   ]
  },
  {
   "cell_type": "code",
   "execution_count": 92,
   "metadata": {},
   "outputs": [
    {
     "data": {
      "text/html": [
       "<div>\n",
       "<style scoped>\n",
       "    .dataframe tbody tr th:only-of-type {\n",
       "        vertical-align: middle;\n",
       "    }\n",
       "\n",
       "    .dataframe tbody tr th {\n",
       "        vertical-align: top;\n",
       "    }\n",
       "\n",
       "    .dataframe thead th {\n",
       "        text-align: right;\n",
       "    }\n",
       "</style>\n",
       "<table border=\"1\" class=\"dataframe\">\n",
       "  <thead>\n",
       "    <tr style=\"text-align: right;\">\n",
       "      <th></th>\n",
       "      <th>lat</th>\n",
       "      <th>lon</th>\n",
       "      <th>Fr_Paved</th>\n",
       "      <th>Fr_Grass</th>\n",
       "      <th>Fr_Water</th>\n",
       "      <th>Fr_Bsoil</th>\n",
       "      <th>Fr_Bldgs</th>\n",
       "      <th>Fr_EveTr</th>\n",
       "      <th>Fr_DecTr</th>\n",
       "    </tr>\n",
       "  </thead>\n",
       "  <tbody>\n",
       "    <tr>\n",
       "      <th>0</th>\n",
       "      <td>6.899419</td>\n",
       "      <td>79.811364</td>\n",
       "      <td>0.0</td>\n",
       "      <td>0.0</td>\n",
       "      <td>1.0</td>\n",
       "      <td>0.0</td>\n",
       "      <td>0.0</td>\n",
       "      <td>0</td>\n",
       "      <td>0</td>\n",
       "    </tr>\n",
       "    <tr>\n",
       "      <th>1</th>\n",
       "      <td>6.896995</td>\n",
       "      <td>79.811364</td>\n",
       "      <td>0.0</td>\n",
       "      <td>0.0</td>\n",
       "      <td>1.0</td>\n",
       "      <td>0.0</td>\n",
       "      <td>0.0</td>\n",
       "      <td>0</td>\n",
       "      <td>0</td>\n",
       "    </tr>\n",
       "    <tr>\n",
       "      <th>2</th>\n",
       "      <td>6.894570</td>\n",
       "      <td>79.811364</td>\n",
       "      <td>0.0</td>\n",
       "      <td>0.0</td>\n",
       "      <td>1.0</td>\n",
       "      <td>0.0</td>\n",
       "      <td>0.0</td>\n",
       "      <td>0</td>\n",
       "      <td>0</td>\n",
       "    </tr>\n",
       "    <tr>\n",
       "      <th>3</th>\n",
       "      <td>6.892146</td>\n",
       "      <td>79.811364</td>\n",
       "      <td>0.0</td>\n",
       "      <td>0.0</td>\n",
       "      <td>1.0</td>\n",
       "      <td>0.0</td>\n",
       "      <td>0.0</td>\n",
       "      <td>0</td>\n",
       "      <td>0</td>\n",
       "    </tr>\n",
       "    <tr>\n",
       "      <th>4</th>\n",
       "      <td>6.889721</td>\n",
       "      <td>79.811364</td>\n",
       "      <td>0.0</td>\n",
       "      <td>0.0</td>\n",
       "      <td>1.0</td>\n",
       "      <td>0.0</td>\n",
       "      <td>0.0</td>\n",
       "      <td>0</td>\n",
       "      <td>0</td>\n",
       "    </tr>\n",
       "  </tbody>\n",
       "</table>\n",
       "</div>"
      ],
      "text/plain": [
       "        lat        lon  Fr_Paved  Fr_Grass  Fr_Water  Fr_Bsoil  Fr_Bldgs  \\\n",
       "0  6.899419  79.811364       0.0       0.0       1.0       0.0       0.0   \n",
       "1  6.896995  79.811364       0.0       0.0       1.0       0.0       0.0   \n",
       "2  6.894570  79.811364       0.0       0.0       1.0       0.0       0.0   \n",
       "3  6.892146  79.811364       0.0       0.0       1.0       0.0       0.0   \n",
       "4  6.889721  79.811364       0.0       0.0       1.0       0.0       0.0   \n",
       "\n",
       "   Fr_EveTr  Fr_DecTr  \n",
       "0         0         0  \n",
       "1         0         0  \n",
       "2         0         0  \n",
       "3         0         0  \n",
       "4         0         0  "
      ]
     },
     "execution_count": 92,
     "metadata": {},
     "output_type": "execute_result"
    }
   ],
   "source": [
    "list_files=glob.glob('/Users/hamidrezaomidvar/Desktop/land_cover/Colombo/fraction*')\n",
    "df=pd.concat([pd.read_csv(f,index_col=0) for f in list_files])\n",
    "df.columns=['lat','lon','Fr_Paved' ,'Fr_Grass','Fr_Water' ,'Fr_Bsoil','Fr_Bldgs']\n",
    "df['Fr_EveTr']=0\n",
    "df['Fr_DecTr']=0\n",
    "df.head()"
   ]
  },
  {
   "cell_type": "code",
   "execution_count": 93,
   "metadata": {},
   "outputs": [],
   "source": [
    "lat=df['lat']\n",
    "lon=df['lon']"
   ]
  },
  {
   "cell_type": "code",
   "execution_count": 94,
   "metadata": {},
   "outputs": [],
   "source": [
    "p2_text='''\n",
    "+units=m +init=ESRI:102009 +proj=lcc +lat_1=30 +lat_2=60 +lat_0=6.92 +lon_0=79.86 \n",
    "+x_0=0 +y_0=0 +ellps=WGS84 +datum=WGS84 +no_defs +towgs84=0,0,0\n",
    "'''\n",
    "\n",
    "p1 = Proj(init='epsg:32631')\n",
    "p2 = Proj(p2_text)\n",
    "x1, y1 = p1(list(lon),list(lat))\n",
    "x2, y2 = transform(p1,p2,x1,y1)"
   ]
  },
  {
   "cell_type": "code",
   "execution_count": 95,
   "metadata": {},
   "outputs": [],
   "source": [
    "x_file='wrfinput_d03.suews'\n",
    "ds_base = xr.open_dataset(x_file)\n",
    "wrf_LAT=ds_base.XLAT.values[0,:,:]\n",
    "wrf_LON=ds_base.XLONG.values[0,:,:]\n",
    "\n",
    "\n",
    "wrf_X,wrf_Y=p2(wrf_LON,wrf_LAT)"
   ]
  },
  {
   "cell_type": "code",
   "execution_count": 96,
   "metadata": {},
   "outputs": [],
   "source": [
    "def pc_plot(grid_x, grid_y,new_Z,name):\n",
    "    plt.figure(figsize=(10,10))\n",
    "    plt.pcolor(grid_x, grid_y,new_Z)\n",
    "    plt.colorbar()\n",
    "    plt.title(name)\n",
    "    plt.ylabel('y')\n",
    "    plt.xlabel('x')\n",
    "    "
   ]
  },
  {
   "cell_type": "code",
   "execution_count": 97,
   "metadata": {},
   "outputs": [],
   "source": [
    "def regrid_lower(name):\n",
    "    Z=df[name]\n",
    "    grid_x=wrf_X\n",
    "    grid_y=wrf_Y\n",
    "    new_Z=griddata(list(zip(x2,y2)), Z.values, (grid_x, grid_y), method='linear')\n",
    "    return grid_x, grid_y,new_Z"
   ]
  },
  {
   "cell_type": "code",
   "execution_count": 98,
   "metadata": {},
   "outputs": [
    {
     "data": {
      "image/png": "[encoded data removed]",
      "text/plain": [
       "<Figure size 720x720 with 2 Axes>"
      ]
     },
     "metadata": {
      "needs_background": "light"
     },
     "output_type": "display_data"
    }
   ],
   "source": [
    "pc_plot(wrf_X, wrf_Y,ds_base['LANDUSEF'].values[0,12,:,:],'before')"
   ]
  },
  {
   "cell_type": "code",
   "execution_count": 99,
   "metadata": {},
   "outputs": [
    {
     "name": "stdout",
     "output_type": "stream",
     "text": [
      "Fr_Paved\n",
      "Fr_Bldgs\n",
      "Fr_EveTr\n",
      "Fr_DecTr\n",
      "Fr_Grass\n",
      "Fr_Bsoil\n",
      "Fr_Water\n"
     ]
    }
   ],
   "source": [
    "names=['Fr_Paved' ,'Fr_Bldgs' ,'Fr_EveTr' ,'Fr_DecTr' ,'Fr_Grass' ,'Fr_Bsoil','Fr_Water']\n",
    "new_all={}\n",
    "for name in names:\n",
    "    print(name)\n",
    "    grid_x, grid_y,new_0=regrid_lower(name)\n",
    "    new_all[name]=new_0"
   ]
  },
  {
   "cell_type": "code",
   "execution_count": 100,
   "metadata": {},
   "outputs": [],
   "source": [
    "new_0=new_all['Fr_Paved']\n",
    "cd=~np.isnan(new_0)\n",
    "ds_base['LANDUSEF'].values[0,12,:,:][cd]=new_all['Fr_Paved'][cd]+new_all['Fr_Bldgs'][cd]\n",
    "ds_base['LANDUSEF'].values[0,12,:,:][cd]=np.round(ds_base['LANDUSEF'].values[0,12,:,:][cd],2)\n",
    "\n",
    "ds_base['LANDUSEF'].values[0,0,:,:][cd]=new_all['Fr_EveTr'][cd]/3\n",
    "ds_base['LANDUSEF'].values[0,1,:,:][cd]=new_all['Fr_EveTr'][cd]/3\n",
    "ds_base['LANDUSEF'].values[0,4,:,:][cd]=new_all['Fr_EveTr'][cd]/3\n",
    "\n",
    "ds_base['LANDUSEF'].values[0,2,:,:][cd]=new_all['Fr_DecTr'][cd]/2\n",
    "ds_base['LANDUSEF'].values[0,3,:,:][cd]=new_all['Fr_DecTr'][cd]/2\n",
    "\n",
    "ds_base['LANDUSEF'].values[0,5,:,:][cd]=new_all['Fr_Grass'][cd]/7\n",
    "ds_base['LANDUSEF'].values[0,6,:,:][cd]=new_all['Fr_Grass'][cd]/7\n",
    "ds_base['LANDUSEF'].values[0,7,:,:][cd]=new_all['Fr_Grass'][cd]/7\n",
    "ds_base['LANDUSEF'].values[0,8,:,:][cd]=new_all['Fr_Grass'][cd]/7\n",
    "ds_base['LANDUSEF'].values[0,9,:,:][cd]=new_all['Fr_Grass'][cd]/7\n",
    "ds_base['LANDUSEF'].values[0,11,:,:][cd]=new_all['Fr_Grass'][cd]/7\n",
    "ds_base['LANDUSEF'].values[0,13,:,:][cd]=new_all['Fr_Grass'][cd]/7\n",
    "\n",
    "ds_base['LANDUSEF'].values[0,15,:,:][cd]=new_all['Fr_Bsoil'][cd]/4\n",
    "ds_base['LANDUSEF'].values[0,17,:,:][cd]=new_all['Fr_Bsoil'][cd]/4\n",
    "ds_base['LANDUSEF'].values[0,18,:,:][cd]=new_all['Fr_Bsoil'][cd]/4\n",
    "ds_base['LANDUSEF'].values[0,19,:,:][cd]=new_all['Fr_Bsoil'][cd]/4\n",
    "\n",
    "\n",
    "#ds_base['LANDUSEF'].values[0,10,:,:][cd]=new_all['Fr_Water'][cd]/2\n",
    "ds_base['LANDUSEF'].values[0,16,:,:][cd]=new_all['Fr_Water'][cd]"
   ]
  },
  {
   "cell_type": "code",
   "execution_count": 108,
   "metadata": {},
   "outputs": [
    {
     "data": {
      "image/png": "[encoded data removed]",
      "text/plain": [
       "<Figure size 720x720 with 2 Axes>"
      ]
     },
     "metadata": {
      "needs_background": "light"
     },
     "output_type": "display_data"
    }
   ],
   "source": [
    "pc_plot(wrf_X, wrf_Y,ds_base['LANDUSEF'].values[0,12,:,:],'after')"
   ]
  },
  {
   "cell_type": "code",
   "execution_count": 102,
   "metadata": {},
   "outputs": [
    {
     "name": "stdout",
     "output_type": "stream",
     "text": [
      "SUEWS input has been added to:wrfinput_d03.suews.new\n"
     ]
    }
   ],
   "source": [
    "ds_merged = ds_base.update(ds_base)    \n",
    "\n",
    "for var in ds_merged.data_vars.keys():\n",
    "    if 'coordinates' in ds_merged[var].attrs:\n",
    "        del ds_merged[var].attrs['coordinates']\n",
    "        \n",
    "file_out = x_file+'.new'\n",
    "\n",
    "ds_merged.to_netcdf(file_out,\n",
    "                    mode='w', format='NETCDF3_64BIT')\n",
    "print('SUEWS input has been added to:' + file_out)"
   ]
  },
  {
   "cell_type": "code",
   "execution_count": null,
   "metadata": {},
   "outputs": [],
   "source": []
  }
 ],
 "metadata": {
  "kernelspec": {
   "display_name": "Python 3",
   "language": "python",
   "name": "python3"
  },
  "language_info": {
   "codemirror_mode": {
    "name": "ipython",
    "version": 3
   },
   "file_extension": ".py",
   "mimetype": "text/x-python",
   "name": "python",
   "nbconvert_exporter": "python",
   "pygments_lexer": "ipython3",
   "version": "3.7.3"
  },
  "toc": {
   "base_numbering": 1,
   "nav_menu": {},
   "number_sections": true,
   "sideBar": true,
   "skip_h1_title": false,
   "title_cell": "Table of Contents",
   "title_sidebar": "Contents",
   "toc_cell": false,
   "toc_position": {},
   "toc_section_display": true,
   "toc_window_display": false
  }
 },
 "nbformat": 4,
 "nbformat_minor": 2
}
