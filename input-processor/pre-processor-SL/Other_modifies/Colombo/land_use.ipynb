{
 "cells": [
  {
   "cell_type": "code",
   "execution_count": 1,
   "metadata": {},
   "outputs": [],
   "source": [
    "import numpy as np\n",
    "import matplotlib.pyplot as plt\n",
    "import seaborn as sns\n",
    "import pandas as pd\n",
    "import xarray as xr\n",
    "from scipy.interpolate import griddata\n",
    "import geopandas as gpd\n",
    "from pyproj import Proj, transform\n",
    "from mpl_toolkits.axes_grid1 import make_axes_locatable\n",
    "import matplotlib.colors as colors\n",
    "import glob\n",
    "import rasterio\n",
    "from rasterio.features import rasterize\n",
    "from rasterio.transform import from_bounds"
   ]
  },
  {
   "cell_type": "code",
   "execution_count": 2,
   "metadata": {},
   "outputs": [
    {
     "data": {
      "text/html": [
       "<div>\n",
       "<style scoped>\n",
       "    .dataframe tbody tr th:only-of-type {\n",
       "        vertical-align: middle;\n",
       "    }\n",
       "\n",
       "    .dataframe tbody tr th {\n",
       "        vertical-align: top;\n",
       "    }\n",
       "\n",
       "    .dataframe thead th {\n",
       "        text-align: right;\n",
       "    }\n",
       "</style>\n",
       "<table border=\"1\" class=\"dataframe\">\n",
       "  <thead>\n",
       "    <tr style=\"text-align: right;\">\n",
       "      <th></th>\n",
       "      <th>lat</th>\n",
       "      <th>lon</th>\n",
       "      <th>Fr_Paved</th>\n",
       "      <th>Fr_Grass</th>\n",
       "      <th>Fr_Water</th>\n",
       "      <th>Fr_Bsoil</th>\n",
       "      <th>Fr_Bldgs</th>\n",
       "      <th>Fr_EveTr</th>\n",
       "      <th>Fr_DecTr</th>\n",
       "    </tr>\n",
       "  </thead>\n",
       "  <tbody>\n",
       "    <tr>\n",
       "      <th>0</th>\n",
       "      <td>6.899419</td>\n",
       "      <td>79.811364</td>\n",
       "      <td>0.0</td>\n",
       "      <td>0.0</td>\n",
       "      <td>1.0</td>\n",
       "      <td>0.0</td>\n",
       "      <td>0.0</td>\n",
       "      <td>0</td>\n",
       "      <td>0</td>\n",
       "    </tr>\n",
       "    <tr>\n",
       "      <th>1</th>\n",
       "      <td>6.896995</td>\n",
       "      <td>79.811364</td>\n",
       "      <td>0.0</td>\n",
       "      <td>0.0</td>\n",
       "      <td>1.0</td>\n",
       "      <td>0.0</td>\n",
       "      <td>0.0</td>\n",
       "      <td>0</td>\n",
       "      <td>0</td>\n",
       "    </tr>\n",
       "    <tr>\n",
       "      <th>2</th>\n",
       "      <td>6.894570</td>\n",
       "      <td>79.811364</td>\n",
       "      <td>0.0</td>\n",
       "      <td>0.0</td>\n",
       "      <td>1.0</td>\n",
       "      <td>0.0</td>\n",
       "      <td>0.0</td>\n",
       "      <td>0</td>\n",
       "      <td>0</td>\n",
       "    </tr>\n",
       "    <tr>\n",
       "      <th>3</th>\n",
       "      <td>6.892146</td>\n",
       "      <td>79.811364</td>\n",
       "      <td>0.0</td>\n",
       "      <td>0.0</td>\n",
       "      <td>1.0</td>\n",
       "      <td>0.0</td>\n",
       "      <td>0.0</td>\n",
       "      <td>0</td>\n",
       "      <td>0</td>\n",
       "    </tr>\n",
       "    <tr>\n",
       "      <th>4</th>\n",
       "      <td>6.889721</td>\n",
       "      <td>79.811364</td>\n",
       "      <td>0.0</td>\n",
       "      <td>0.0</td>\n",
       "      <td>1.0</td>\n",
       "      <td>0.0</td>\n",
       "      <td>0.0</td>\n",
       "      <td>0</td>\n",
       "      <td>0</td>\n",
       "    </tr>\n",
       "  </tbody>\n",
       "</table>\n",
       "</div>"
      ],
      "text/plain": [
       "        lat        lon  Fr_Paved  Fr_Grass  Fr_Water  Fr_Bsoil  Fr_Bldgs  \\\n",
       "0  6.899419  79.811364       0.0       0.0       1.0       0.0       0.0   \n",
       "1  6.896995  79.811364       0.0       0.0       1.0       0.0       0.0   \n",
       "2  6.894570  79.811364       0.0       0.0       1.0       0.0       0.0   \n",
       "3  6.892146  79.811364       0.0       0.0       1.0       0.0       0.0   \n",
       "4  6.889721  79.811364       0.0       0.0       1.0       0.0       0.0   \n",
       "\n",
       "   Fr_EveTr  Fr_DecTr  \n",
       "0         0         0  \n",
       "1         0         0  \n",
       "2         0         0  \n",
       "3         0         0  \n",
       "4         0         0  "
      ]
     },
     "execution_count": 2,
     "metadata": {},
     "output_type": "execute_result"
    }
   ],
   "source": [
    "list_files=glob.glob('/Users/hamidrezaomidvar/Desktop/LINDER/Colombo/fraction*')\n",
    "df=pd.concat([pd.read_csv(f,index_col=0) for f in list_files])\n",
    "df.columns=['lat','lon','Fr_Paved' ,'Fr_Grass','Fr_Water' ,'Fr_Bsoil','Fr_Bldgs']\n",
    "df['Fr_EveTr']=0\n",
    "df['Fr_DecTr']=0\n",
    "df.head()"
   ]
  },
  {
   "cell_type": "code",
   "execution_count": 8,
   "metadata": {},
   "outputs": [],
   "source": [
    "def toapp(row,to_inspect):\n",
    "    ct=0\n",
    "    if row[to_inspect]<0:\n",
    "        all_cat=['Fr_Paved' ,'Fr_Grass','Fr_Water' ,'Fr_Bsoil','Fr_Bldgs']\n",
    "        for i in [x for x in all_cat if x!=to_inspect]:\n",
    "            if row[i]!=0:\n",
    "                ct+=1\n",
    "        for i in [x for x in all_cat if x!=to_inspect]:\n",
    "            if row[i]!=0:\n",
    "                row[i]=row[i]-row[to_inspect]/ct\n",
    "        row[to_inspect]=0\n",
    "    \n",
    "    return row\n",
    "for i in ['Fr_Paved' ,'Fr_Grass','Fr_Water' ,'Fr_Bsoil','Fr_Bldgs']:\n",
    "    df=df.apply(lambda x:toapp(x,i),axis=1)"
   ]
  },
  {
   "cell_type": "code",
   "execution_count": 3,
   "metadata": {},
   "outputs": [
    {
     "data": {
      "text/plain": [
       "Fr_Paved    0.038071\n",
       "Fr_Grass    0.116095\n",
       "Fr_Water    0.331340\n",
       "Fr_Bsoil    0.020366\n",
       "Fr_Bldgs    0.494128\n",
       "Fr_EveTr    0.000000\n",
       "Fr_DecTr    0.000000\n",
       "dtype: float64"
      ]
     },
     "execution_count": 3,
     "metadata": {},
     "output_type": "execute_result"
    }
   ],
   "source": [
    "df.mean()[2:]"
   ]
  },
  {
   "cell_type": "code",
   "execution_count": 4,
   "metadata": {},
   "outputs": [],
   "source": [
    "lat=df['lat']\n",
    "lon=df['lon']"
   ]
  },
  {
   "cell_type": "code",
   "execution_count": 5,
   "metadata": {},
   "outputs": [],
   "source": [
    "p2_text='''\n",
    "+units=m +init=ESRI:102009 +proj=lcc +lat_1=30 +lat_2=60 +lat_0=6.92 +lon_0=79.86 \n",
    "+x_0=0 +y_0=0 +ellps=WGS84 +datum=WGS84 +no_defs +towgs84=0,0,0\n",
    "'''\n",
    "\n",
    "p1 = Proj(init='epsg:32631')\n",
    "p2 = Proj(p2_text)\n",
    "x1, y1 = p1(list(lon),list(lat))\n",
    "x2, y2 = transform(p1,p2,x1,y1)"
   ]
  },
  {
   "cell_type": "code",
   "execution_count": 6,
   "metadata": {},
   "outputs": [],
   "source": [
    "x_file='wrfinput_d03.suews'\n",
    "ds_base = xr.open_dataset(x_file)\n",
    "wrf_LAT=ds_base.XLAT.values[0,:,:]\n",
    "wrf_LON=ds_base.XLONG.values[0,:,:]\n",
    "\n",
    "\n",
    "wrf_X,wrf_Y=p2(wrf_LON,wrf_LAT)"
   ]
  },
  {
   "cell_type": "code",
   "execution_count": 7,
   "metadata": {},
   "outputs": [],
   "source": [
    "def pc_plot(grid_x, grid_y,new_Z,name):\n",
    "    plt.figure(figsize=(10,10))\n",
    "    plt.pcolor(grid_x, grid_y,new_Z)\n",
    "    plt.colorbar()\n",
    "    plt.title(name)\n",
    "    plt.ylabel('y')\n",
    "    plt.xlabel('x')\n",
    "    plt.savefig('fig/'+name+'.png', dpi=300, bbox_inches='tight', pad_inches=0.01)"
   ]
  },
  {
   "cell_type": "code",
   "execution_count": 8,
   "metadata": {},
   "outputs": [],
   "source": [
    "def regrid_lower(name,df,wrf_X,wrf_Y,x2,y2):\n",
    "    new_a=np.full_like(wrf_X,fill_value=0)\n",
    "    count_a=np.full_like(wrf_X,fill_value=0)\n",
    "    for x,y,val in zip(x2,y2,df[name]):\n",
    "\n",
    "        for id_x,i in enumerate(wrf_X[0,:-1]):\n",
    "            if x>=i and x<=wrf_X[0,id_x+1]:\n",
    "                id_x_wrf=id_x\n",
    "                i_wrf=i\n",
    "\n",
    "        for id_y,j in enumerate(wrf_Y[:-1,0]):\n",
    "            if y>=j and y<=wrf_Y[id_y+1,0]:\n",
    "                id_y_wrf=id_y\n",
    "                j_wrf=j\n",
    "\n",
    "        new_a[id_y_wrf,id_x_wrf]+=val\n",
    "        count_a[id_y_wrf,id_x_wrf]+=1\n",
    "    z=np.divide(new_a,count_a,where=~np.isnan(new_a))\n",
    "    return z"
   ]
  },
  {
   "cell_type": "code",
   "execution_count": 9,
   "metadata": {},
   "outputs": [
    {
     "data": {
      "image/png": "[encoded data removed]",
      "text/plain": [
       "<Figure size 720x720 with 2 Axes>"
      ]
     },
     "metadata": {
      "needs_background": "light"
     },
     "output_type": "display_data"
    }
   ],
   "source": [
    "pc_plot(wrf_X, wrf_Y,ds_base['LANDUSEF'].values[0,16,:,:],'Water-MODIS')"
   ]
  },
  {
   "cell_type": "code",
   "execution_count": 10,
   "metadata": {},
   "outputs": [
    {
     "name": "stdout",
     "output_type": "stream",
     "text": [
      "Fr_Paved\n",
      "Fr_Bldgs\n"
     ]
    },
    {
     "name": "stderr",
     "output_type": "stream",
     "text": [
      "/Users/hamidrezaomidvar/anaconda3/envs/main_env/lib/python3.7/site-packages/ipykernel_launcher.py:18: RuntimeWarning: invalid value encountered in true_divide\n"
     ]
    },
    {
     "name": "stdout",
     "output_type": "stream",
     "text": [
      "Fr_EveTr\n",
      "Fr_DecTr\n",
      "Fr_Grass\n",
      "Fr_Bsoil\n",
      "Fr_Water\n"
     ]
    }
   ],
   "source": [
    "names=['Fr_Paved' ,'Fr_Bldgs' ,'Fr_EveTr' ,'Fr_DecTr' ,'Fr_Grass' ,'Fr_Bsoil','Fr_Water']\n",
    "new_all={}\n",
    "for name in names:\n",
    "    print(name)\n",
    "    new_0=regrid_lower(name,df,wrf_X,wrf_Y,x2,y2)\n",
    "    new_all[name]=new_0"
   ]
  },
  {
   "cell_type": "code",
   "execution_count": 11,
   "metadata": {},
   "outputs": [],
   "source": [
    "new_0=new_all['Fr_Paved']\n",
    "cd=~np.isnan(new_0)\n",
    "ds_base['LANDUSEF'].values[0,12,:,:][cd]=new_all['Fr_Paved'][cd]+new_all['Fr_Bldgs'][cd]\n",
    "ds_base['LANDUSEF'].values[0,12,:,:][cd]=np.round(ds_base['LANDUSEF'].values[0,12,:,:][cd],2)\n",
    "\n",
    "ds_base['LANDUSEF'].values[0,0,:,:][cd]=new_all['Fr_EveTr'][cd]/3\n",
    "ds_base['LANDUSEF'].values[0,1,:,:][cd]=new_all['Fr_EveTr'][cd]/3\n",
    "ds_base['LANDUSEF'].values[0,4,:,:][cd]=new_all['Fr_EveTr'][cd]/3\n",
    "\n",
    "ds_base['LANDUSEF'].values[0,2,:,:][cd]=new_all['Fr_DecTr'][cd]/2\n",
    "ds_base['LANDUSEF'].values[0,3,:,:][cd]=new_all['Fr_DecTr'][cd]/2\n",
    "\n",
    "ds_base['LANDUSEF'].values[0,5,:,:][cd]=new_all['Fr_Grass'][cd]/7\n",
    "ds_base['LANDUSEF'].values[0,6,:,:][cd]=new_all['Fr_Grass'][cd]/7\n",
    "ds_base['LANDUSEF'].values[0,7,:,:][cd]=new_all['Fr_Grass'][cd]/7\n",
    "ds_base['LANDUSEF'].values[0,8,:,:][cd]=new_all['Fr_Grass'][cd]/7\n",
    "ds_base['LANDUSEF'].values[0,9,:,:][cd]=new_all['Fr_Grass'][cd]/7\n",
    "ds_base['LANDUSEF'].values[0,11,:,:][cd]=new_all['Fr_Grass'][cd]/7\n",
    "ds_base['LANDUSEF'].values[0,13,:,:][cd]=new_all['Fr_Grass'][cd]/7\n",
    "\n",
    "ds_base['LANDUSEF'].values[0,15,:,:][cd]=new_all['Fr_Bsoil'][cd]/4\n",
    "ds_base['LANDUSEF'].values[0,17,:,:][cd]=new_all['Fr_Bsoil'][cd]/4\n",
    "ds_base['LANDUSEF'].values[0,18,:,:][cd]=new_all['Fr_Bsoil'][cd]/4\n",
    "ds_base['LANDUSEF'].values[0,19,:,:][cd]=new_all['Fr_Bsoil'][cd]/4\n",
    "\n",
    "\n",
    "#ds_base['LANDUSEF'].values[0,10,:,:][cd]=new_all['Fr_Water'][cd]/2\n",
    "ds_base['LANDUSEF'].values[0,16,:,:][cd]=new_all['Fr_Water'][cd]"
   ]
  },
  {
   "cell_type": "code",
   "execution_count": 23,
   "metadata": {},
   "outputs": [
    {
     "data": {
      "image/png": "[encoded data removed]",
      "text/plain": [
       "<Figure size 720x720 with 2 Axes>"
      ]
     },
     "metadata": {
      "needs_background": "light"
     },
     "output_type": "display_data"
    }
   ],
   "source": [
    "pc_plot(wrf_X, wrf_Y,ds_base['LANDUSEF'].values[0,12,:,:],'Water-Modified')"
   ]
  },
  {
   "cell_type": "code",
   "execution_count": null,
   "metadata": {},
   "outputs": [],
   "source": []
  },
  {
   "cell_type": "code",
   "execution_count": null,
   "metadata": {},
   "outputs": [],
   "source": []
  },
  {
   "cell_type": "code",
   "execution_count": 13,
   "metadata": {},
   "outputs": [],
   "source": [
    "df_bldg=gpd.read_file('bldg_data/CMC_bldg_500mbuffer/CMC_bldg_500mbuffer.shp')\n",
    "sub_df_bldg=df_bldg.filter(['FR_N_Floor','geometry'])"
   ]
  },
  {
   "cell_type": "code",
   "execution_count": 14,
   "metadata": {},
   "outputs": [],
   "source": [
    "def change_to_floor(row):\n",
    "    splits=row['FR_N_Floor'].split('G')\n",
    "    #return splits\n",
    "    if splits[1]=='':\n",
    "        return 1*(7.5/2)\n",
    "    else:\n",
    "        return (7.5/2)*(1+int(splits[1].split('+')[1]))\n",
    "    \n",
    "sub_df_bldg['BldgH']=sub_df_bldg.apply(change_to_floor,axis=1)"
   ]
  },
  {
   "cell_type": "code",
   "execution_count": 15,
   "metadata": {},
   "outputs": [],
   "source": [
    "df=sub_df_bldg #It is a shapefile dataframe with two columns of geometry and levels\n",
    "dimns = 1000, 1000\n",
    "dtype=rasterio.float64\n",
    "transform_=rasterio.transform.from_bounds(*df.total_bounds, *dimns)\n",
    "\n",
    "rasterize_rivernet = rasterize(\n",
    "    [(shape, BldgH) for shape,BldgH in zip(df['geometry'],df['BldgH'])],\n",
    "    out_shape=dimns,\n",
    "    transform=transform_,\n",
    "    fill=0,\n",
    "    all_touched=True,\n",
    "    dtype=dtype)\n",
    "\n",
    "with rasterio.open(\n",
    "    'rasterized.tif', 'w',\n",
    "    driver='GTiff',\n",
    "    dtype=dtype,\n",
    "    count=1,\n",
    "    width=dimns[0],\n",
    "    height=dimns[1],\n",
    "    transform=transform_\n",
    ") as dst:\n",
    "    dst.write(rasterize_rivernet, indexes=1)"
   ]
  },
  {
   "cell_type": "code",
   "execution_count": 16,
   "metadata": {},
   "outputs": [
    {
     "data": {
      "text/plain": [
       "<matplotlib.image.AxesImage at 0x7fa312af8898>"
      ]
     },
     "execution_count": 16,
     "metadata": {},
     "output_type": "execute_result"
    },
    {
     "data": {
      "image/png": "[encoded data removed]",
      "text/plain": [
       "<Figure size 432x288 with 1 Axes>"
      ]
     },
     "metadata": {
      "needs_background": "light"
     },
     "output_type": "display_data"
    }
   ],
   "source": [
    "rst=rasterio.open('rasterized.tif',mode='r+')\n",
    "plt.imshow(rst.read(1))"
   ]
  },
  {
   "cell_type": "code",
   "execution_count": 17,
   "metadata": {},
   "outputs": [],
   "source": [
    "rst=rasterio.open('rasterized.tif',mode='r+')\n",
    "data=rst.read(1)\n",
    "Xs=[]\n",
    "Ys=[]\n",
    "Ds=[]\n",
    "for i in range(rst.shape[0]):\n",
    "    for j in range(rst.shape[0]):\n",
    "        x,y=rst.transform*(i,j)\n",
    "        Xs.append(x)\n",
    "        Ys.append(y)\n",
    "        Ds.append(data[i,j])"
   ]
  },
  {
   "cell_type": "code",
   "execution_count": 18,
   "metadata": {},
   "outputs": [],
   "source": [
    "p3 = Proj(init='epsg:32644')\n",
    "x3, y3 = transform(p3,p2,Xs,Ys)"
   ]
  },
  {
   "cell_type": "code",
   "execution_count": 19,
   "metadata": {},
   "outputs": [],
   "source": [
    "def regrid_lower_2(Ds,wrf_X,wrf_Y,x2,y2):\n",
    "    new_a=np.full_like(wrf_X,fill_value=0)\n",
    "    count_a=np.full_like(wrf_X,fill_value=0)\n",
    "    for x,y,val in zip(x2,y2,Ds):\n",
    "\n",
    "        for id_x,i in enumerate(wrf_X[0,:-1]):\n",
    "            if x>=i and x<=wrf_X[0,id_x+1]:\n",
    "                id_x_wrf=id_x\n",
    "                i_wrf=i\n",
    "\n",
    "        for id_y,j in enumerate(wrf_Y[:-1,0]):\n",
    "            if y>=j and y<=wrf_Y[id_y+1,0]:\n",
    "                id_y_wrf=id_y\n",
    "                j_wrf=j\n",
    "\n",
    "        new_a[id_y_wrf,id_x_wrf]+=val\n",
    "        count_a[id_y_wrf,id_x_wrf]+=1\n",
    "    z=np.divide(new_a,count_a,where=~np.isnan(new_a))\n",
    "    return z"
   ]
  },
  {
   "cell_type": "code",
   "execution_count": 20,
   "metadata": {},
   "outputs": [
    {
     "name": "stdout",
     "output_type": "stream",
     "text": [
      "bldgH_SUEWS\n"
     ]
    },
    {
     "name": "stderr",
     "output_type": "stream",
     "text": [
      "/Users/hamidrezaomidvar/anaconda3/envs/main_env/lib/python3.7/site-packages/ipykernel_launcher.py:18: RuntimeWarning: invalid value encountered in true_divide\n"
     ]
    }
   ],
   "source": [
    "names=['bldgH_SUEWS']\n",
    "new_all={}\n",
    "for name in names:\n",
    "    print(name)\n",
    "    new_0=regrid_lower_2(Ds,wrf_X,wrf_Y,x3,y3)\n",
    "    new_all[name]=new_0\n",
    "    \n",
    "    ds_var=ds_base[name.upper()].values[0,:,:]\n",
    "    ds_var[~np.isnan(new_0)]=new_0[~np.isnan(new_0)]\n",
    "    zz=ds_base[name.upper()].values[0,:,:]\n",
    "    zz[zz<0]=0\n",
    "    zz[np.isnan(new_0) & (zz!=0)]=np.mean(zz[~np.isnan(new_0)])\n",
    "    ds_base[name.upper()].values[0,:,:]=zz"
   ]
  },
  {
   "cell_type": "code",
   "execution_count": 21,
   "metadata": {},
   "outputs": [
    {
     "data": {
      "image/png": "[encoded data removed]",
      "text/plain": [
       "<Figure size 720x720 with 2 Axes>"
      ]
     },
     "metadata": {
      "needs_background": "light"
     },
     "output_type": "display_data"
    }
   ],
   "source": [
    "pc_plot(wrf_X, wrf_Y,ds_base[name.upper()].values[0,:,:],name)"
   ]
  },
  {
   "cell_type": "code",
   "execution_count": 25,
   "metadata": {},
   "outputs": [
    {
     "data": {
      "image/png": "[encoded data removed]",
      "text/plain": [
       "<Figure size 720x720 with 2 Axes>"
      ]
     },
     "metadata": {
      "needs_background": "light"
     },
     "output_type": "display_data"
    }
   ],
   "source": [
    "pc_plot(wrf_X, wrf_Y,ds_base['LANDUSEF'].values[0,12,:,:],'')"
   ]
  },
  {
   "cell_type": "code",
   "execution_count": 22,
   "metadata": {},
   "outputs": [
    {
     "name": "stdout",
     "output_type": "stream",
     "text": [
      "SUEWS input has been added to:wrfinput_d03.suews.new\n"
     ]
    }
   ],
   "source": [
    "ds_merged = ds_base.update(ds_base)    \n",
    "\n",
    "for var in ds_merged.data_vars.keys():\n",
    "    if 'coordinates' in ds_merged[var].attrs:\n",
    "        del ds_merged[var].attrs['coordinates']\n",
    "        \n",
    "file_out = x_file+'.new'\n",
    "\n",
    "ds_merged.to_netcdf(file_out,\n",
    "                    mode='w', format='NETCDF3_64BIT')\n",
    "print('SUEWS input has been added to:' + file_out)"
   ]
  },
  {
   "cell_type": "code",
   "execution_count": null,
   "metadata": {},
   "outputs": [],
   "source": []
  }
 ],
 "metadata": {
  "kernelspec": {
   "display_name": "Python 3",
   "language": "python",
   "name": "python3"
  },
  "language_info": {
   "codemirror_mode": {
    "name": "ipython",
    "version": 3
   },
   "file_extension": ".py",
   "mimetype": "text/x-python",
   "name": "python",
   "nbconvert_exporter": "python",
   "pygments_lexer": "ipython3",
   "version": "3.7.3"
  },
  "toc": {
   "base_numbering": 1,
   "nav_menu": {},
   "number_sections": true,
   "sideBar": true,
   "skip_h1_title": false,
   "title_cell": "Table of Contents",
   "title_sidebar": "Contents",
   "toc_cell": false,
   "toc_position": {},
   "toc_section_display": true,
   "toc_window_display": false
  }
 },
 "nbformat": 4,
 "nbformat_minor": 2
}
