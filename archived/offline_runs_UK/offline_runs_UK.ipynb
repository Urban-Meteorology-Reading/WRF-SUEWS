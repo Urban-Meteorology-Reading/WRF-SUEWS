{
 "cells": [
  {
   "cell_type": "code",
   "execution_count": 1,
   "metadata": {},
   "outputs": [],
   "source": [
    "import pandas as pd\n",
    "import numpy as np\n",
    "import supy as sp\n",
    "from pathlib import Path\n",
    "from datetime import datetime\n",
    "import pickle"
   ]
  },
  {
   "cell_type": "code",
   "execution_count": 2,
   "metadata": {},
   "outputs": [],
   "source": [
    "def spin_up(cityname,first_day_str):\n",
    "    path_runcontrol = Path('../input-processor/pre-processor-UK/runs/run_'+cityname) / 'RunControl.nml'\n",
    "    df_state_init = sp.init_supy(path_runcontrol)\n",
    "    grid = df_state_init.index[0]\n",
    "    df_forcing = sp.load_forcing_grid(path_runcontrol, grid)\n",
    "    first_day = datetime.strptime(first_day_str, '%Y-%m-%d')\n",
    "\n",
    "    print('Rotating the time based on the first day of '+first_day_str)\n",
    "    first_part = df_forcing.loc[df_forcing[df_forcing.index >= first_day].index]\n",
    "    second_part = df_forcing.loc[df_forcing[\n",
    "        df_forcing.index < first_day-pd.Timedelta('1 days')\n",
    "    ].index]\n",
    "    second_part.index = second_part.index+pd.Timedelta('366 days')\n",
    "\n",
    "    df_forcing_2 = first_part.append(second_part)\n",
    "    df_forcing_2.iy = df_forcing_2.index.year\n",
    "    df_forcing_2.index.freq = first_part.index.freq\n",
    "    round_number = 0\n",
    "    error = 0.4\n",
    "    counter=0\n",
    "    while (error >= 0.1 or counter<3):\n",
    "        counter+=1\n",
    "        round_number = round_number+1\n",
    "        print(f'\\r{round_number}-->{error}',end=\"\")\n",
    "        df_output, df_state_final = sp.run_supy(\n",
    "            df_forcing_2, df_state_init,\n",
    "            save_state=False)\n",
    "        final_state = df_state_final[df_state_init.columns.levels[0]\n",
    "                                     ].iloc[1]\n",
    "        df_state_init.iloc[0] = final_state\n",
    "        soilstore_before = df_state_final.soilstore_id.iloc[0]\n",
    "        soilstore_after = df_state_final.soilstore_id.iloc[1]\n",
    "        diff_soil = sum(abs(soilstore_after-soilstore_before))\n",
    "        error = 100*diff_soil/soilstore_before.mean()\n",
    "\n",
    "    \n",
    "    return df_state_init, df_forcing_2\n",
    "\n",
    "\n",
    "def run_save_suews(cityname,first_day_str,name_season):\n",
    "    df_state_init, df_forcing=spin_up(cityname,first_day_str)\n",
    "    \n",
    "    if cityname=='London':\n",
    "    #Modification based on WRF_SUEWS Preprocessing London part\n",
    "        df_state_init.bldgh=21.11\n",
    "        df_state_init.evetreeh=6.55\n",
    "        df_state_init.dectreeh=6.55\n",
    "        df_state_init.loc[:,'sfr']=[0.33088,0.3646,0.0,0.04956,0.0387959,0,0.21607] #sfr for grid contaning KCL\n",
    "    \n",
    "    df_output, df_state_final = sp.run_supy(df_forcing, df_state_init,save_state=False)\n",
    "    out=df_output.loc[98].SUEWS\n",
    "    \n",
    "    with open(f'outputs/{cityname}-{name_season}-output-offline.pickle', 'wb') as handle:\n",
    "        pickle.dump(out, handle, protocol=pickle.HIGHEST_PROTOCOL)\n",
    "    "
   ]
  },
  {
   "cell_type": "code",
   "execution_count": null,
   "metadata": {},
   "outputs": [
    {
     "name": "stdout",
     "output_type": "stream",
     "text": [
      "Running for Swindon . . .\n",
      "\n",
      "............................................................\n",
      "Rotating the time based on the first day of 2012-04-10\n",
      "4-->0.5847081799818272\n",
      "............................................................\n",
      "Rotating the time based on the first day of 2012-07-15\n",
      "4-->0.24033435717299972\n",
      "............................................................\n",
      "Rotating the time based on the first day of 2012-10-01\n",
      "4-->0.9371815814704477\n",
      "............................................................\n",
      "Rotating the time based on the first day of 2012-01-10\n",
      "2-->20.22177053124844"
     ]
    }
   ],
   "source": [
    "citynames=['London','Swindon']\n",
    "first_day_strs = ['2012-04-10','2012-07-15','2012-10-01','2012-01-10']\n",
    "name_seasons = ['Apr','Jul','Oct','Jan']\n",
    "\n",
    "for cityname in citynames:\n",
    "    print(f'Running for {cityname} . . .')\n",
    "    print('')\n",
    "    print('.'*60)\n",
    "    for name_season,first_day_str in zip(name_seasons,first_day_strs):\n",
    "        run_save_suews(cityname,first_day_str,name_season)\n",
    "        print('')\n",
    "        print('.'*60)    \n",
    "    print('#'*60)"
   ]
  },
  {
   "cell_type": "code",
   "execution_count": null,
   "metadata": {},
   "outputs": [],
   "source": []
  },
  {
   "cell_type": "code",
   "execution_count": 25,
   "metadata": {},
   "outputs": [],
   "source": []
  },
  {
   "cell_type": "code",
   "execution_count": null,
   "metadata": {},
   "outputs": [],
   "source": []
  },
  {
   "cell_type": "code",
   "execution_count": null,
   "metadata": {},
   "outputs": [],
   "source": []
  },
  {
   "cell_type": "code",
   "execution_count": null,
   "metadata": {},
   "outputs": [],
   "source": []
  }
 ],
 "metadata": {
  "kernelspec": {
   "display_name": "Python 3",
   "language": "python",
   "name": "python3"
  },
  "language_info": {
   "codemirror_mode": {
    "name": "ipython",
    "version": 3
   },
   "file_extension": ".py",
   "mimetype": "text/x-python",
   "name": "python",
   "nbconvert_exporter": "python",
   "pygments_lexer": "ipython3",
   "version": "3.7.6"
  },
  "toc": {
   "base_numbering": 1,
   "nav_menu": {},
   "number_sections": true,
   "sideBar": true,
   "skip_h1_title": false,
   "title_cell": "Table of Contents",
   "title_sidebar": "Contents",
   "toc_cell": false,
   "toc_position": {},
   "toc_section_display": true,
   "toc_window_display": false
  }
 },
 "nbformat": 4,
 "nbformat_minor": 4
}
