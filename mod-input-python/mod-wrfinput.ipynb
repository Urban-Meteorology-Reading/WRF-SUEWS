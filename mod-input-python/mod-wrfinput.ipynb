{
 "cells": [
  {
   "cell_type": "code",
   "execution_count": 3,
   "metadata": {
    "collapsed": true
   },
   "outputs": [],
   "source": [
    "import xarray as xr\n",
    "import os,sys,glob"
   ]
  },
  {
   "cell_type": "code",
   "execution_count": 52,
   "metadata": {},
   "outputs": [],
   "source": [
    "os.getcwd()\n",
    "fl_wrfinput=glob.glob('wrfinput*')"
   ]
  },
  {
   "cell_type": "code",
   "execution_count": 53,
   "metadata": {},
   "outputs": [
    {
     "data": {
      "text/plain": [
       "['wrfinput_d01.save', 'wrfinput_d01']"
      ]
     },
     "execution_count": 53,
     "metadata": {},
     "output_type": "execute_result"
    }
   ],
   "source": [
    "fl_wrfinput"
   ]
  },
  {
   "cell_type": "code",
   "execution_count": 69,
   "metadata": {
    "collapsed": true
   },
   "outputs": [],
   "source": [
    "ds_disk = xr.open_dataset('wrfinput_d01')"
   ]
  },
  {
   "cell_type": "code",
   "execution_count": 70,
   "metadata": {},
   "outputs": [
    {
     "data": {
      "text/plain": [
       "<xarray.DataArray 'T2' (Time: 1, south_north: 5, west_east: 5)>\n",
       "array([[[300.1549 , 300.70944, 300.75793, 300.6841 , 301.5533 ],\n",
       "        [299.93634, 300.7561 , 300.90884, 300.77087, 301.417  ],\n",
       "        [300.08154, 301.05988, 301.24698, 301.01898, 301.45047],\n",
       "        [300.36032, 301.37555, 301.56662, 301.29016, 301.5196 ],\n",
       "        [300.4331 , 301.2165 , 301.41998, 301.27975, 301.3872 ]]],\n",
       "      dtype=float32)\n",
       "Coordinates:\n",
       "    XLAT     (Time, south_north, west_east) float32 ...\n",
       "    XLONG    (Time, south_north, west_east) float32 ...\n",
       "Dimensions without coordinates: Time, south_north, west_east\n",
       "Attributes:\n",
       "    FieldType:    104\n",
       "    MemoryOrder:  XY \n",
       "    description:  TEMP at 2 M\n",
       "    units:        K\n",
       "    stagger:      \n",
       "    coordinates:  XLONG XLAT XTIME"
      ]
     },
     "execution_count": 70,
     "metadata": {},
     "output_type": "execute_result"
    }
   ],
   "source": [
    "ds_disk['T2']"
   ]
  },
  {
   "cell_type": "code",
   "execution_count": 63,
   "metadata": {},
   "outputs": [
    {
     "name": "stdout",
     "output_type": "stream",
     "text": [
      "LU_INDEX\n",
      "VAR_SSO\n",
      "U\n",
      "V\n",
      "W\n",
      "PH\n",
      "PHB\n",
      "T\n",
      "T_INIT\n",
      "MU\n",
      "MUB\n",
      "P\n",
      "PB\n",
      "P_HYD\n",
      "Q2\n",
      "T2\n",
      "TH2\n",
      "PSFC\n",
      "U10\n",
      "V10\n",
      "QVAPOR\n",
      "QCLOUD\n",
      "QRAIN\n",
      "QICE\n",
      "QSNOW\n",
      "QGRAUP\n",
      "QNICE\n",
      "QNRAIN\n",
      "TOPOSLPX\n",
      "TOPOSLPY\n",
      "SHDMAX\n",
      "SHDMIN\n",
      "SNOALB\n",
      "LANDUSEF\n",
      "SOILCTOP\n",
      "SOILCBOT\n",
      "TSLB\n",
      "SMOIS\n",
      "SH2O\n",
      "SEAICE\n",
      "IVGTYP\n",
      "ISLTYP\n",
      "VEGFRA\n",
      "SNOW\n",
      "SNOWH\n",
      "CANWAT\n",
      "LAKE_DEPTH\n",
      "UOCE\n",
      "VOCE\n",
      "FRC_URB2D\n",
      "LAI\n",
      "VAR\n",
      "CON\n",
      "OA1\n",
      "OA2\n",
      "OA3\n",
      "OA4\n",
      "OL1\n",
      "OL2\n",
      "OL3\n",
      "OL4\n",
      "O3RAD\n",
      "MAPFAC_M\n",
      "MAPFAC_U\n",
      "MAPFAC_V\n",
      "MAPFAC_MX\n",
      "MAPFAC_MY\n",
      "MAPFAC_UX\n",
      "MAPFAC_UY\n",
      "MAPFAC_VX\n",
      "MF_VX_INV\n",
      "MAPFAC_VY\n",
      "F\n",
      "E\n",
      "SINALPHA\n",
      "COSALPHA\n",
      "HGT\n",
      "TSK\n",
      "CLAT\n",
      "ALBBCK\n",
      "TMN\n",
      "XLAND\n",
      "CPLMASK\n",
      "SNOWC\n",
      "SR\n",
      "PCB\n",
      "PC\n",
      "LANDMASK\n",
      "LAKEMASK\n",
      "SST\n"
     ]
    }
   ],
   "source": [
    "for var in ds_disk.data_vars.keys():\n",
    "    if 'coordinates' in ds_disk[var].attrs:\n",
    "        print var\n",
    "        del ds_disk[var].attrs['coordinates']"
   ]
  },
  {
   "cell_type": "code",
   "execution_count": 64,
   "metadata": {},
   "outputs": [],
   "source": [
    "ds_disk.to_netcdf('xx.nc')"
   ]
  },
  {
   "cell_type": "code",
   "execution_count": 21,
   "metadata": {},
   "outputs": [],
   "source": [
    "da_test.name='LAI_SUEWS'"
   ]
  },
  {
   "cell_type": "code",
   "execution_count": 29,
   "metadata": {},
   "outputs": [
    {
     "data": {
      "text/plain": [
       "<xarray.DataArray 'LAI_SUEWS' (Time: 1, soil_layers_stag: 5, south_north: 5, west_east: 5)>\n",
       "array([[[[0., 0., 0., 0., 0.],\n",
       "         [0., 0., 0., 0., 0.],\n",
       "         [0., 0., 0., 0., 0.],\n",
       "         [0., 0., 0., 0., 0.],\n",
       "         [0., 0., 0., 0., 0.]],\n",
       "\n",
       "        [[0., 0., 0., 0., 0.],\n",
       "         [0., 0., 0., 0., 0.],\n",
       "         [0., 0., 0., 0., 0.],\n",
       "         [0., 0., 0., 0., 0.],\n",
       "         [0., 0., 0., 0., 0.]],\n",
       "\n",
       "        [[0., 0., 0., 0., 0.],\n",
       "         [0., 0., 0., 0., 0.],\n",
       "         [0., 0., 0., 0., 0.],\n",
       "         [0., 0., 0., 0., 0.],\n",
       "         [0., 0., 0., 0., 0.]],\n",
       "\n",
       "        [[0., 0., 0., 0., 0.],\n",
       "         [0., 0., 0., 0., 0.],\n",
       "         [0., 0., 0., 0., 0.],\n",
       "         [0., 0., 0., 0., 0.],\n",
       "         [0., 0., 0., 0., 0.]],\n",
       "\n",
       "        [[0., 0., 0., 0., 0.],\n",
       "         [0., 0., 0., 0., 0.],\n",
       "         [0., 0., 0., 0., 0.],\n",
       "         [0., 0., 0., 0., 0.],\n",
       "         [0., 0., 0., 0., 0.]]]], dtype=float32)\n",
       "Coordinates:\n",
       "    XLAT     (Time, south_north, west_east) float32 30.308304 30.314632 ...\n",
       "    XLONG    (Time, south_north, west_east) float32 120.14807 120.77399 ...\n",
       "Dimensions without coordinates: Time, soil_layers_stag, south_north, west_east\n",
       "Attributes:\n",
       "    FieldType:    104\n",
       "    MemoryOrder:  XYZ\n",
       "    description:  test var for SUEWS\n",
       "    units:        m3 m-3\n",
       "    stagger:      Z\n",
       "    coordinates:  XLONG XLAT XTIME"
      ]
     },
     "execution_count": 29,
     "metadata": {},
     "output_type": "execute_result"
    }
   ],
   "source": [
    "da_test.attrs.update(description='test var for SUEWS')\n",
    "da_test"
   ]
  },
  {
   "cell_type": "code",
   "execution_count": 48,
   "metadata": {
    "scrolled": true
   },
   "outputs": [],
   "source": [
    "ds_disk[['T2','Q2']].to_netcdf('xx.nc',mode='w',format='NETCDF3_CLASSIC')"
   ]
  },
  {
   "cell_type": "code",
   "execution_count": 47,
   "metadata": {},
   "outputs": [
    {
     "ename": "KeyError",
     "evalue": "'coordinates'",
     "output_type": "error",
     "traceback": [
      "\u001b[0;31m---------------------------------------------------------------------------\u001b[0m",
      "\u001b[0;31mKeyError\u001b[0m                                  Traceback (most recent call last)",
      "\u001b[0;32m<ipython-input-47-9f2ef08105a1>\u001b[0m in \u001b[0;36m<module>\u001b[0;34m()\u001b[0m\n\u001b[1;32m      1\u001b[0m \u001b[0;32mdel\u001b[0m \u001b[0mds_disk\u001b[0m\u001b[0;34m[\u001b[0m\u001b[0;34m'Q2'\u001b[0m\u001b[0;34m]\u001b[0m\u001b[0;34m.\u001b[0m\u001b[0mattrs\u001b[0m\u001b[0;34m[\u001b[0m\u001b[0;34m'coordinates'\u001b[0m\u001b[0;34m]\u001b[0m\u001b[0;34m\u001b[0m\u001b[0m\n\u001b[0;32m----> 2\u001b[0;31m \u001b[0;32mdel\u001b[0m \u001b[0mds_disk\u001b[0m\u001b[0;34m[\u001b[0m\u001b[0;34m'T2'\u001b[0m\u001b[0;34m]\u001b[0m\u001b[0;34m.\u001b[0m\u001b[0mattrs\u001b[0m\u001b[0;34m[\u001b[0m\u001b[0;34m'coordinates'\u001b[0m\u001b[0;34m]\u001b[0m\u001b[0;34m\u001b[0m\u001b[0m\n\u001b[0m",
      "\u001b[0;32m/usr/local/Cellar/python@2/2.7.15_1/Frameworks/Python.framework/Versions/2.7/lib/python2.7/collections.pyc\u001b[0m in \u001b[0;36m__delitem__\u001b[0;34m(self, key, dict_delitem)\u001b[0m\n\u001b[1;32m     83\u001b[0m         \u001b[0;31m# Deleting an existing item uses self.__map to find the link which gets\u001b[0m\u001b[0;34m\u001b[0m\u001b[0;34m\u001b[0m\u001b[0m\n\u001b[1;32m     84\u001b[0m         \u001b[0;31m# removed by updating the links in the predecessor and successor nodes.\u001b[0m\u001b[0;34m\u001b[0m\u001b[0;34m\u001b[0m\u001b[0m\n\u001b[0;32m---> 85\u001b[0;31m         \u001b[0mdict_delitem\u001b[0m\u001b[0;34m(\u001b[0m\u001b[0mself\u001b[0m\u001b[0;34m,\u001b[0m \u001b[0mkey\u001b[0m\u001b[0;34m)\u001b[0m\u001b[0;34m\u001b[0m\u001b[0m\n\u001b[0m\u001b[1;32m     86\u001b[0m         \u001b[0mlink_prev\u001b[0m\u001b[0;34m,\u001b[0m \u001b[0mlink_next\u001b[0m\u001b[0;34m,\u001b[0m \u001b[0m_\u001b[0m \u001b[0;34m=\u001b[0m \u001b[0mself\u001b[0m\u001b[0;34m.\u001b[0m\u001b[0m__map\u001b[0m\u001b[0;34m.\u001b[0m\u001b[0mpop\u001b[0m\u001b[0;34m(\u001b[0m\u001b[0mkey\u001b[0m\u001b[0;34m)\u001b[0m\u001b[0;34m\u001b[0m\u001b[0m\n\u001b[1;32m     87\u001b[0m         \u001b[0mlink_prev\u001b[0m\u001b[0;34m[\u001b[0m\u001b[0;36m1\u001b[0m\u001b[0;34m]\u001b[0m \u001b[0;34m=\u001b[0m \u001b[0mlink_next\u001b[0m                        \u001b[0;31m# update link_prev[NEXT]\u001b[0m\u001b[0;34m\u001b[0m\u001b[0m\n",
      "\u001b[0;31mKeyError\u001b[0m: 'coordinates'"
     ]
    }
   ],
   "source": [
    "del ds_disk['Q2'].attrs['coordinates']\n",
    "del ds_disk['T2'].attrs['coordinates']"
   ]
  },
  {
   "cell_type": "code",
   "execution_count": 50,
   "metadata": {},
   "outputs": [],
   "source": [
    "ds_xx=xr.open_dataset('xx.nc')"
   ]
  },
  {
   "cell_type": "code",
   "execution_count": 51,
   "metadata": {},
   "outputs": [
    {
     "data": {
      "text/plain": [
       "<xarray.DataArray 'T2' (Time: 1, south_north: 5, west_east: 5)>\n",
       "array([[[300.1549 , 300.70944, 300.75793, 300.6841 , 301.5533 ],\n",
       "        [299.93634, 300.7561 , 300.90884, 300.77087, 301.417  ],\n",
       "        [300.08154, 301.05988, 301.24698, 301.01898, 301.45047],\n",
       "        [300.36032, 301.37555, 301.56662, 301.29016, 301.5196 ],\n",
       "        [300.4331 , 301.2165 , 301.41998, 301.27975, 301.3872 ]]],\n",
       "      dtype=float32)\n",
       "Coordinates:\n",
       "    XLAT     (Time, south_north, west_east) float32 ...\n",
       "    XLONG    (Time, south_north, west_east) float32 ...\n",
       "Dimensions without coordinates: Time, south_north, west_east\n",
       "Attributes:\n",
       "    FieldType:    104\n",
       "    MemoryOrder:  XY \n",
       "    description:  TEMP at 2 M\n",
       "    units:        K\n",
       "    stagger:      "
      ]
     },
     "execution_count": 51,
     "metadata": {},
     "output_type": "execute_result"
    }
   ],
   "source": [
    "ds_xx['T2']"
   ]
  },
  {
   "cell_type": "code",
   "execution_count": null,
   "metadata": {
    "collapsed": true
   },
   "outputs": [],
   "source": []
  }
 ],
 "metadata": {
  "kernelspec": {
   "display_name": "Python 2",
   "language": "python",
   "name": "python2"
  },
  "language_info": {
   "codemirror_mode": {
    "name": "ipython",
    "version": 2
   },
   "file_extension": ".py",
   "mimetype": "text/x-python",
   "name": "python",
   "nbconvert_exporter": "python",
   "pygments_lexer": "ipython2",
   "version": "2.7.15"
  }
 },
 "nbformat": 4,
 "nbformat_minor": 2
}
