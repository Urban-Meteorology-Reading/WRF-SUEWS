{
 "cells": [
  {
   "cell_type": "code",
   "execution_count": 350,
   "metadata": {
    "collapsed": true
   },
   "outputs": [],
   "source": [
    "import xarray as xr\n",
    "import numpy as np\n",
    "import os,sys,glob"
   ]
  },
  {
   "cell_type": "code",
   "execution_count": 351,
   "metadata": {
    "collapsed": true
   },
   "outputs": [],
   "source": [
    "os.getcwd()\n",
    "fl_wrfinput=glob.glob('wrfinput*')"
   ]
  },
  {
   "cell_type": "code",
   "execution_count": 352,
   "metadata": {},
   "outputs": [
    {
     "data": {
      "text/plain": [
       "['wrfinput_d01.new1.nc',\n",
       " 'wrfinput_d01',\n",
       " 'wrfinput_d01.save.nc',\n",
       " 'wrfinput_d01.nc',\n",
       " 'wrfinput_d01.new',\n",
       " 'wrfinput_d01.new.nc']"
      ]
     },
     "execution_count": 352,
     "metadata": {},
     "output_type": "execute_result"
    }
   ],
   "source": [
    "fl_wrfinput"
   ]
  },
  {
   "cell_type": "code",
   "execution_count": 353,
   "metadata": {
    "collapsed": true
   },
   "outputs": [],
   "source": [
    "ds_disk = xr.open_dataset('wrfinput_d01.save.nc')"
   ]
  },
  {
   "cell_type": "code",
   "execution_count": 354,
   "metadata": {
    "collapsed": true
   },
   "outputs": [],
   "source": [
    "dict_rules_suews={\n",
    "    'LAI_SUEWS':[('lai',1,3)],\n",
    "    'albDecTr_SUEWS':0,\n",
    "    'albEveTr_SUEWS':0,\n",
    "    'albGrass_SUEWS':0,\n",
    "    'DecidCap_SUEWS':0,\n",
    "    'porosity_SUEWS':0,\n",
    "    'GDD_SUEWS':[('gdd',1,5)],\n",
    "    'HDD_SUEWS':[('hdd',1,6),('day',3,2)],\n",
    "    'state_SUEWS':[('nsurf',1,7)],\n",
    "    'soilmoist_SUEWS':[('nsurf',1,7)],\n",
    "    'surf_var_SUEWS':[('nsurf',1,7)],\n",
    "    'qn1_av_SUEWS':0,\n",
    "    'qn1_s_SUEWS':0,\n",
    "    'dqndt_SUEWS':0,\n",
    "    'dqnsdt_SUEWS':0,\n",
    "    'MeltWaterStore':[('nsurf',1,7)],\n",
    "    'SnowAlb':0,\n",
    "    'WUDay':[('wu',1,9)],\n",
    "    'z0m_in':0,\n",
    "    'zdm_in':0\n",
    "}"
   ]
  },
  {
   "cell_type": "code",
   "execution_count": 362,
   "metadata": {},
   "outputs": [],
   "source": [
    "def gen_var_expand(name,rules,var_base=ds_disk['T2'].copy(deep=True)):\n",
    "    var_new=var_base.rename(name.upper());\n",
    "    var_attrs=var_base.attrs\n",
    "    for x_rule in rules:\n",
    "#         print x_rule\n",
    "        (name_dim,axis,rep) = x_rule\n",
    "        var_new=np.repeat(\n",
    "            var_new.expand_dims(\n",
    "            name_dim,axis=axis),rep,axis=axis)\n",
    "    \n",
    "    var_new.attrs=var_attrs\n",
    "    var_new.attrs['MemoryOrder']='XYZ'\n",
    "    var_new.attrs[u'description']=name\n",
    "    var_new.attrs['stagger']='Z'\n",
    "    \n",
    "    return var_new\n",
    "    \n",
    "def gen_var_keep(name,rules,var_base=ds_disk['T2'].copy(deep=True)):\n",
    "    var_new=var_base.rename(name)\n",
    "    var_new.attrs[u'description']=name\n",
    "    \n",
    "    return var_new\n",
    "\n",
    "def gen_var(name,rules,var_base=ds_disk['T2'].copy()):\n",
    "    if type(rules) is list:\n",
    "        var_new=gen_var_expand(name,rules,var_base)\n",
    "    else:\n",
    "        var_new=gen_var_keep(name,rules,var_base)\n",
    "    \n",
    "    return var_new\n",
    "        \n",
    "            "
   ]
  },
  {
   "cell_type": "code",
   "execution_count": 363,
   "metadata": {},
   "outputs": [
    {
     "data": {
      "text/plain": [
       "OrderedDict([(u'FieldType', 104),\n",
       "             (u'MemoryOrder', 'XYZ'),\n",
       "             (u'description', 'GDD_SUEWS'),\n",
       "             (u'units', u'K'),\n",
       "             (u'stagger', 'Z')])"
      ]
     },
     "execution_count": 363,
     "metadata": {},
     "output_type": "execute_result"
    }
   ],
   "source": [
    "ds_new=xr.Dataset({name.upper():gen_var(name,rules) for name,rules in dict_rules_suews.items()})\n",
    "# ds_disk.merge(ds_new)\n",
    "# ds_disk[['T2','Q2']].merge()\n",
    "# ds_new[['z0m_in','zdm_in']]\n",
    "ds_new['GDD_SUEWS'].attrs"
   ]
  },
  {
   "cell_type": "code",
   "execution_count": 346,
   "metadata": {},
   "outputs": [
    {
     "data": {
      "text/plain": [
       "OrderedDict([(u'FieldType', 104),\n",
       "             (u'MemoryOrder', u'XY '),\n",
       "             (u'description', u'TEMP at 2 M'),\n",
       "             (u'units', u'K'),\n",
       "             (u'stagger', u''),\n",
       "             (u'coordinates', u'XLONG XLAT XTIME')])"
      ]
     },
     "execution_count": 346,
     "metadata": {},
     "output_type": "execute_result"
    }
   ],
   "source": [
    "ds_disk['T2'].attrs"
   ]
  },
  {
   "cell_type": "code",
   "execution_count": 347,
   "metadata": {},
   "outputs": [
    {
     "data": {
      "text/plain": [
       "OrderedDict([(u'FieldType', 104),\n",
       "             (u'MemoryOrder', u'XYZ'),\n",
       "             (u'description', u'SOIL MOISTURE'),\n",
       "             (u'units', u'm3 m-3'),\n",
       "             (u'stagger', u'Z'),\n",
       "             (u'coordinates', u'XLONG XLAT XTIME')])"
      ]
     },
     "execution_count": 347,
     "metadata": {},
     "output_type": "execute_result"
    }
   ],
   "source": [
    "ds_disk.SMOIS.attrs"
   ]
  },
  {
   "cell_type": "code",
   "execution_count": 315,
   "metadata": {
    "collapsed": true
   },
   "outputs": [
    {
     "name": "stdout",
     "output_type": "stream",
     "text": [
      "XLAT 3 104\n",
      "XLONG 3 104\n",
      "LU_INDEX 3 104\n",
      "ZNU 2 104\n",
      "ZNW 2 104\n",
      "ZS 2 104\n",
      "DZS 2 104\n",
      "VAR_SSO 3 104\n",
      "U 4 104\n",
      "V 4 104\n",
      "W 4 104\n",
      "PH 4 104\n",
      "PHB 4 104\n",
      "T 4 104\n",
      "T_INIT 4 104\n",
      "MU 3 104\n",
      "MUB 3 104\n",
      "P 4 104\n",
      "PB 4 104\n",
      "FNM 2 104\n",
      "FNP 2 104\n",
      "RDNW 2 104\n",
      "RDN 2 104\n",
      "DNW 2 104\n",
      "DN 2 104\n",
      "T_BASE 2 104\n",
      "CFN 1 104\n",
      "CFN1 1 104\n",
      "STEP_NUMBER 1 106\n",
      "THIS_IS_AN_IDEAL_RUN 1 106\n",
      "P_HYD 4 104\n",
      "Q2 3 104\n",
      "T2 3 104\n",
      "TH2 3 104\n",
      "PSFC 3 104\n",
      "U10 3 104\n",
      "V10 3 104\n",
      "RDX 1 104\n",
      "RDY 1 104\n",
      "DTS 1 104\n",
      "DTSEPS 1 104\n",
      "RESM 1 104\n",
      "ZETATOP 1 104\n",
      "CF1 1 104\n",
      "CF2 1 104\n",
      "CF3 1 104\n",
      "QVAPOR 4 104\n",
      "QCLOUD 4 104\n",
      "QRAIN 4 104\n",
      "QICE 4 104\n",
      "QSNOW 4 104\n",
      "QGRAUP 4 104\n",
      "QNICE 4 104\n",
      "QNRAIN 4 104\n",
      "FCX 2 104\n",
      "GCX 2 104\n",
      "DTBC 1 104\n",
      "TOPOSLPX 3 104\n",
      "TOPOSLPY 3 104\n",
      "SHDMAX 3 104\n",
      "SHDMIN 3 104\n",
      "SNOALB 3 104\n",
      "LANDUSEF 4 104\n",
      "SOILCTOP 4 104\n",
      "SOILCBOT 4 104\n",
      "TSLB 4 104\n",
      "SMOIS 4 104\n",
      "SH2O 4 104\n",
      "SEAICE 3 104\n",
      "IVGTYP 3 106\n",
      "ISLTYP 3 106\n",
      "VEGFRA 3 104\n",
      "SNOW 3 104\n",
      "SNOWH 3 104\n",
      "CANWAT 3 104\n",
      "FNDSNOWH 1 106\n",
      "FNDSOILW 1 106\n",
      "FNDALBSI 1 106\n",
      "FNDSNOWSI 1 106\n",
      "FNDICEDEPTH 1 106\n",
      "LAKE_DEPTH 3 104\n",
      "UOCE 3 104\n",
      "VOCE 3 104\n",
      "FRC_URB2D 3 104\n",
      "LAI 3 104\n",
      "VAR 3 104\n",
      "CON 3 104\n",
      "OA1 3 104\n",
      "OA2 3 104\n",
      "OA3 3 104\n",
      "OA4 3 104\n",
      "OL1 3 104\n",
      "OL2 3 104\n",
      "OL3 3 104\n",
      "OL4 3 104\n",
      "O3RAD 4 104\n",
      "MAPFAC_M 3 104\n",
      "MAPFAC_U 3 104\n",
      "MAPFAC_V 3 104\n",
      "MAPFAC_MX 3 104\n",
      "MAPFAC_MY 3 104\n",
      "MAPFAC_UX 3 104\n",
      "MAPFAC_UY 3 104\n",
      "MAPFAC_VX 3 104\n",
      "MF_VX_INV 3 104\n",
      "MAPFAC_VY 3 104\n",
      "F 3 104\n",
      "E 3 104\n",
      "SINALPHA 3 104\n",
      "COSALPHA 3 104\n",
      "HGT 3 104\n",
      "TSK 3 104\n",
      "U_BASE 2 104\n",
      "V_BASE 2 104\n",
      "QV_BASE 2 104\n",
      "Z_BASE 2 104\n",
      "U_FRAME 1 104\n",
      "V_FRAME 1 104\n",
      "P_TOP 1 104\n",
      "GOT_VAR_SSO 1 106\n",
      "LAT_LL_T 1 104\n",
      "LAT_UL_T 1 104\n",
      "LAT_UR_T 1 104\n",
      "LAT_LR_T 1 104\n",
      "LAT_LL_U 1 104\n",
      "LAT_UL_U 1 104\n",
      "LAT_UR_U 1 104\n",
      "LAT_LR_U 1 104\n",
      "LAT_LL_V 1 104\n",
      "LAT_UL_V 1 104\n",
      "LAT_UR_V 1 104\n",
      "LAT_LR_V 1 104\n",
      "LAT_LL_D 1 104\n",
      "LAT_UL_D 1 104\n",
      "LAT_UR_D 1 104\n",
      "LAT_LR_D 1 104\n",
      "LON_LL_T 1 104\n",
      "LON_UL_T 1 104\n",
      "LON_UR_T 1 104\n",
      "LON_LR_T 1 104\n",
      "LON_LL_U 1 104\n",
      "LON_UL_U 1 104\n",
      "LON_UR_U 1 104\n",
      "LON_LR_U 1 104\n",
      "LON_LL_V 1 104\n",
      "LON_UL_V 1 104\n",
      "LON_UR_V 1 104\n",
      "LON_LR_V 1 104\n",
      "LON_LL_D 1 104\n",
      "LON_UL_D 1 104\n",
      "LON_UR_D 1 104\n",
      "LON_LR_D 1 104\n",
      "T00 1 104\n",
      "P00 1 104\n",
      "TLP 1 104\n",
      "TISO 1 104\n",
      "TLP_STRAT 1 104\n",
      "P_STRAT 1 104\n",
      "XLAT_U 3 104\n",
      "XLONG_U 3 104\n",
      "XLAT_V 3 104\n",
      "XLONG_V 3 104\n",
      "CLAT 3 104\n",
      "ALBBCK 3 104\n",
      "TMN 3 104\n",
      "XLAND 3 104\n",
      "CPLMASK 4 104\n",
      "SNOWC 3 104\n",
      "SR 3 104\n",
      "SAVE_TOPO_FROM_REAL 1 106\n",
      "LAKEFLAG 1 106\n",
      "LAKE_DEPTH_FLAG 1 106\n",
      "BF 2 104\n",
      "C1H 2 104\n",
      "C2H 2 104\n",
      "BH 2 104\n",
      "C1F 2 104\n",
      "C2F 2 104\n",
      "C3H 2 104\n",
      "C4H 2 104\n",
      "C3F 2 104\n",
      "C4F 2 104\n",
      "PCB 3 104\n",
      "PC 3 104\n",
      "LANDMASK 3 104\n",
      "LAKEMASK 3 104\n",
      "SST 3 104\n"
     ]
    }
   ],
   "source": [
    "# ds_disk.merge(ds_new)\n",
    "ds_disk['SMOIS'].copy()\n",
    "ds_new['SnowAlb'].attrs\n",
    "ds_new['LAI_SUEWS'].attrs\n",
    "for var in ds_disk.variables:\n",
    "    if 'FieldType' in ds_disk[var].attrs:\n",
    "        print var,ds_disk[var].ndim,ds_disk[var].attrs['FieldType']"
   ]
  },
  {
   "cell_type": "code",
   "execution_count": 364,
   "metadata": {},
   "outputs": [],
   "source": [
    "ds_merged=ds_disk.update(ds_new)\n",
    "for var in ds_merged.data_vars.keys():\n",
    "    if 'coordinates' in ds_merged[var].attrs:\n",
    "        print var\n",
    "        del ds_merged[var].attrs['coordinates']\n",
    "# ds_merged['ALBBCK']=ds_merged['ALBBCK']+0.2\n",
    "ds_merged.to_netcdf('wrfinput_d01.new1.nc',mode='w',format='NETCDF4_CLASSIC')"
   ]
  },
  {
   "cell_type": "code",
   "execution_count": 164,
   "metadata": {
    "collapsed": true
   },
   "outputs": [],
   "source": [
    "rules=zip(*[('hdd',2,6),('day',4,2)])\n",
    "var_base=ds_disk['T2'].copy()\n",
    "var_new=var_base.copy();\n",
    "var_new=var_new.expand_dims(rules[0],axis=rules[1])\n",
    "var_new=np.repeat(var_new,)"
   ]
  },
  {
   "cell_type": "code",
   "execution_count": 365,
   "metadata": {},
   "outputs": [
    {
     "data": {
      "text/plain": [
       "<xarray.Dataset>\n",
       "Dimensions:          ()\n",
       "Data variables:\n",
       "    GDD_SUEWS        float32 0.23127106\n",
       "    STATE_SUEWS      float32 0.23127103\n",
       "    POROSITY_SUEWS   float32 0.23127104\n",
       "    ALBGRASS_SUEWS   float32 0.23127104\n",
       "    DQNDT_SUEWS      float32 0.23127104\n",
       "    SOILMOIST_SUEWS  float32 0.23127103\n",
       "    HDD_SUEWS        float32 0.23127103\n",
       "    ALBEVETR_SUEWS   float32 0.23127104\n",
       "    WUDAY            float32 0.23127103\n",
       "    DECIDCAP_SUEWS   float32 0.23127104\n",
       "    MELTWATERSTORE   float32 0.23127103\n",
       "    DQNSDT_SUEWS     float32 0.23127104\n",
       "    SNOWALB          float32 0.23127104\n",
       "    QN1_AV_SUEWS     float32 0.23127104\n",
       "    QN1_S_SUEWS      float32 0.23127104\n",
       "    SURF_VAR_SUEWS   float32 0.23127103\n",
       "    ZDM_IN           float32 0.23127104\n",
       "    LAI_SUEWS        float32 0.23127103\n",
       "    Z0M_IN           float32 0.23127104\n",
       "    ALBDECTR_SUEWS   float32 0.23127104"
      ]
     },
     "execution_count": 365,
     "metadata": {},
     "output_type": "execute_result"
    }
   ],
   "source": [
    "ds_new.var()"
   ]
  },
  {
   "cell_type": "code",
   "execution_count": 96,
   "metadata": {},
   "outputs": [
    {
     "data": {
      "text/plain": [
       "<xarray.DataArray 'XLAT' (Time: 1, south_north: 5, west_east: 5)>\n",
       "array([[[30.308304, 30.314632, 30.316753, 30.314632, 30.308304],\n",
       "        [30.849247, 30.85564 , 30.857784, 30.85564 , 30.849247],\n",
       "        [31.3914  , 31.397861, 31.40002 , 31.397861, 31.3914  ],\n",
       "        [31.93472 , 31.94125 , 31.943428, 31.94125 , 31.93472 ],\n",
       "        [32.479176, 32.485775, 32.48798 , 32.485775, 32.479176]]],\n",
       "      dtype=float32)\n",
       "Coordinates:\n",
       "    XLAT     (Time, south_north, west_east) float32 30.308304 30.314632 ...\n",
       "    XLONG    (Time, south_north, west_east) float32 ...\n",
       "Dimensions without coordinates: Time, south_north, west_east\n",
       "Attributes:\n",
       "    FieldType:    104\n",
       "    MemoryOrder:  XY \n",
       "    description:  LATITUDE, SOUTH IS NEGATIVE\n",
       "    units:        degree_north\n",
       "    stagger:      "
      ]
     },
     "execution_count": 96,
     "metadata": {},
     "output_type": "execute_result"
    }
   ],
   "source": [
    "ds_disk['LAI_SUEWS'].shape\n",
    "ds_disk['SMOIS'].coords['XLAT']"
   ]
  },
  {
   "cell_type": "code",
   "execution_count": 146,
   "metadata": {},
   "outputs": [
    {
     "data": {
      "text/plain": [
       "<xarray.DataArray 'T2' (Time: 1, south_north: 5, nsurf: 5, west_east: 5)>\n",
       "array([[[[300.1549 , 300.70944, 300.75793, 300.6841 , 301.5533 ],\n",
       "         [300.1549 , 300.70944, 300.75793, 300.6841 , 301.5533 ],\n",
       "         [300.1549 , 300.70944, 300.75793, 300.6841 , 301.5533 ],\n",
       "         [300.1549 , 300.70944, 300.75793, 300.6841 , 301.5533 ],\n",
       "         [300.1549 , 300.70944, 300.75793, 300.6841 , 301.5533 ]],\n",
       "\n",
       "        [[299.93634, 300.7561 , 300.90884, 300.77087, 301.417  ],\n",
       "         [299.93634, 300.7561 , 300.90884, 300.77087, 301.417  ],\n",
       "         [299.93634, 300.7561 , 300.90884, 300.77087, 301.417  ],\n",
       "         [299.93634, 300.7561 , 300.90884, 300.77087, 301.417  ],\n",
       "         [299.93634, 300.7561 , 300.90884, 300.77087, 301.417  ]],\n",
       "\n",
       "        [[300.08154, 301.05988, 301.24698, 301.01898, 301.45047],\n",
       "         [300.08154, 301.05988, 301.24698, 301.01898, 301.45047],\n",
       "         [300.08154, 301.05988, 301.24698, 301.01898, 301.45047],\n",
       "         [300.08154, 301.05988, 301.24698, 301.01898, 301.45047],\n",
       "         [300.08154, 301.05988, 301.24698, 301.01898, 301.45047]],\n",
       "\n",
       "        [[300.36032, 301.37555, 301.56662, 301.29016, 301.5196 ],\n",
       "         [300.36032, 301.37555, 301.56662, 301.29016, 301.5196 ],\n",
       "         [300.36032, 301.37555, 301.56662, 301.29016, 301.5196 ],\n",
       "         [300.36032, 301.37555, 301.56662, 301.29016, 301.5196 ],\n",
       "         [300.36032, 301.37555, 301.56662, 301.29016, 301.5196 ]],\n",
       "\n",
       "        [[300.4331 , 301.2165 , 301.41998, 301.27975, 301.3872 ],\n",
       "         [300.4331 , 301.2165 , 301.41998, 301.27975, 301.3872 ],\n",
       "         [300.4331 , 301.2165 , 301.41998, 301.27975, 301.3872 ],\n",
       "         [300.4331 , 301.2165 , 301.41998, 301.27975, 301.3872 ],\n",
       "         [300.4331 , 301.2165 , 301.41998, 301.27975, 301.3872 ]]]],\n",
       "      dtype=float32)\n",
       "Coordinates:\n",
       "    XLAT     (Time, south_north, west_east) float32 30.308304 30.314632 ...\n",
       "    XLONG    (Time, south_north, west_east) float32 120.14807 120.77399 ...\n",
       "Dimensions without coordinates: Time, south_north, nsurf, west_east"
      ]
     },
     "execution_count": 146,
     "metadata": {},
     "output_type": "execute_result"
    }
   ],
   "source": [
    "xx=ds_disk['T2'].copy()\n",
    "yy=np.repeat(xx.expand_dims('nsurf',axis=2),5,axis=2)\n",
    "yy"
   ]
  },
  {
   "cell_type": "code",
   "execution_count": 251,
   "metadata": {
    "scrolled": true
   },
   "outputs": [
    {
     "data": {
      "text/plain": [
       "<xarray.Dataset>\n",
       "Dimensions:  (Time: 1, south_north: 5, west_east: 5)\n",
       "Coordinates:\n",
       "    XLAT     (Time, south_north, west_east) float32 ...\n",
       "    XLONG    (Time, south_north, west_east) float32 ...\n",
       "Dimensions without coordinates: Time, south_north, west_east\n",
       "Data variables:\n",
       "    T2       (Time, south_north, west_east) float32 ...\n",
       "    Q2       (Time, south_north, west_east) float32 ...\n",
       "Attributes:\n",
       "    TITLE:                            OUTPUT FROM REAL_EM V3.9.1.1 PREPROCESSOR\n",
       "    START_DATE:                      2010-09-01_00:00:00\n",
       "    SIMULATION_START_DATE:           2010-09-01_00:00:00\n",
       "    WEST-EAST_GRID_DIMENSION:        6\n",
       "    SOUTH-NORTH_GRID_DIMENSION:      6\n",
       "    BOTTOM-TOP_GRID_DIMENSION:       30\n",
       "    DX:                              60000.0\n",
       "    DY:                              60000.0\n",
       "    GRIDTYPE:                        C\n",
       "    DIFF_OPT:                        1\n",
       "    KM_OPT:                          4\n",
       "    DAMP_OPT:                        0\n",
       "    DAMPCOEF:                        0.2\n",
       "    KHDIF:                           0.0\n",
       "    KVDIF:                           0.0\n",
       "    MP_PHYSICS:                      8\n",
       "    RA_LW_PHYSICS:                   4\n",
       "    RA_SW_PHYSICS:                   4\n",
       "    SF_SFCLAY_PHYSICS:               2\n",
       "    SF_SURFACE_PHYSICS:              9\n",
       "    BL_PBL_PHYSICS:                  2\n",
       "    CU_PHYSICS:                      6\n",
       "    SF_LAKE_PHYSICS:                 0\n",
       "    SURFACE_INPUT_SOURCE:            3\n",
       "    SST_UPDATE:                      0\n",
       "    GRID_FDDA:                       0\n",
       "    GFDDA_INTERVAL_M:                0\n",
       "    GFDDA_END_H:                     0\n",
       "    GRID_SFDDA:                      0\n",
       "    SGFDDA_INTERVAL_M:               0\n",
       "    SGFDDA_END_H:                    0\n",
       "    HYPSOMETRIC_OPT:                 2\n",
       "    USE_THETA_M:                     0\n",
       "    USE_MAXW_LEVEL:                  0\n",
       "    USE_TROP_LEVEL:                  0\n",
       "    GWD_OPT:                         1\n",
       "    SF_URBAN_PHYSICS:                0\n",
       "    SF_OCEAN_PHYSICS:                0\n",
       "    SIMULATION_INITIALIZATION_TYPE:  REAL-DATA CASE\n",
       "    WEST-EAST_PATCH_START_UNSTAG:    1\n",
       "    WEST-EAST_PATCH_END_UNSTAG:      5\n",
       "    WEST-EAST_PATCH_START_STAG:      1\n",
       "    WEST-EAST_PATCH_END_STAG:        6\n",
       "    SOUTH-NORTH_PATCH_START_UNSTAG:  1\n",
       "    SOUTH-NORTH_PATCH_END_UNSTAG:    5\n",
       "    SOUTH-NORTH_PATCH_START_STAG:    1\n",
       "    SOUTH-NORTH_PATCH_END_STAG:      6\n",
       "    BOTTOM-TOP_PATCH_START_UNSTAG:   1\n",
       "    BOTTOM-TOP_PATCH_END_UNSTAG:     29\n",
       "    BOTTOM-TOP_PATCH_START_STAG:     1\n",
       "    BOTTOM-TOP_PATCH_END_STAG:       30\n",
       "    GRID_ID:                         1\n",
       "    PARENT_ID:                       0\n",
       "    I_PARENT_START:                  1\n",
       "    J_PARENT_START:                  1\n",
       "    PARENT_GRID_RATIO:               1\n",
       "    DT:                              300.0\n",
       "    CEN_LAT:                         31.40002\n",
       "    CEN_LON:                         121.399994\n",
       "    TRUELAT1:                        30.0\n",
       "    TRUELAT2:                        60.0\n",
       "    MOAD_CEN_LAT:                    31.40002\n",
       "    STAND_LON:                       121.4\n",
       "    POLE_LAT:                        90.0\n",
       "    POLE_LON:                        0.0\n",
       "    GMT:                             0.0\n",
       "    JULYR:                           2010\n",
       "    JULDAY:                          244\n",
       "    MAP_PROJ:                        1\n",
       "    MAP_PROJ_CHAR:                   Lambert Conformal\n",
       "    MMINLU:                          MODIFIED_IGBP_MODIS_NOAH\n",
       "    NUM_LAND_CAT:                    21\n",
       "    ISWATER:                         17\n",
       "    ISLAKE:                          21\n",
       "    ISICE:                           15\n",
       "    ISURBAN:                         13\n",
       "    ISOILWATER:                      14\n",
       "    HYBRID_OPT:                      -1\n",
       "    ETAC:                            0.0"
      ]
     },
     "execution_count": 251,
     "metadata": {},
     "output_type": "execute_result"
    }
   ],
   "source": [
    "ds_disk[['T2','Q2']]"
   ]
  },
  {
   "cell_type": "code",
   "execution_count": 145,
   "metadata": {},
   "outputs": [
    {
     "data": {
      "text/plain": [
       "<xarray.DataArray 'T2' (Time: 1, south_north: 5, nsurf: 25, west_east: 5)>\n",
       "array([[[[300.1549, ..., 301.5533],\n",
       "         ...,\n",
       "         [300.1549, ..., 301.5533]],\n",
       "\n",
       "        ...,\n",
       "\n",
       "        [[300.4331, ..., 301.3872],\n",
       "         ...,\n",
       "         [300.4331, ..., 301.3872]]]], dtype=float32)\n",
       "Coordinates:\n",
       "    XLAT     (Time, south_north, west_east) float32 30.308304 30.314632 ...\n",
       "    XLONG    (Time, south_north, west_east) float32 120.14807 120.77399 ...\n",
       "Dimensions without coordinates: Time, south_north, nsurf, west_east"
      ]
     },
     "execution_count": 145,
     "metadata": {},
     "output_type": "execute_result"
    }
   ],
   "source": [
    "yy=np.repeat(yy,5,axis=2)\n",
    "yy"
   ]
  },
  {
   "cell_type": "code",
   "execution_count": 130,
   "metadata": {},
   "outputs": [
    {
     "ename": "ValueError",
     "evalue": "IndexVariable objects must be 1-dimensional",
     "output_type": "error",
     "traceback": [
      "\u001b[0;31m---------------------------------------------------------------------------\u001b[0m",
      "\u001b[0;31mValueError\u001b[0m                                Traceback (most recent call last)",
      "\u001b[0;32m<ipython-input-130-5b48e0978de2>\u001b[0m in \u001b[0;36m<module>\u001b[0;34m()\u001b[0m\n\u001b[0;32m----> 1\u001b[0;31m \u001b[0mds_disk\u001b[0m\u001b[0;34m[\u001b[0m\u001b[0;34m'LAI_SUEWS'\u001b[0m\u001b[0;34m]\u001b[0m\u001b[0;34m=\u001b[0m\u001b[0mxx\u001b[0m\u001b[0;34m\u001b[0m\u001b[0m\n\u001b[0m",
      "\u001b[0;32m/usr/local/lib/python2.7/site-packages/xarray/core/dataset.pyc\u001b[0m in \u001b[0;36m__setitem__\u001b[0;34m(self, key, value)\u001b[0m\n\u001b[1;32m    897\u001b[0m                                       'to set Dataset values')\n\u001b[1;32m    898\u001b[0m \u001b[0;34m\u001b[0m\u001b[0m\n\u001b[0;32m--> 899\u001b[0;31m         \u001b[0mself\u001b[0m\u001b[0;34m.\u001b[0m\u001b[0mupdate\u001b[0m\u001b[0;34m(\u001b[0m\u001b[0;34m{\u001b[0m\u001b[0mkey\u001b[0m\u001b[0;34m:\u001b[0m \u001b[0mvalue\u001b[0m\u001b[0;34m}\u001b[0m\u001b[0;34m)\u001b[0m\u001b[0;34m\u001b[0m\u001b[0m\n\u001b[0m\u001b[1;32m    900\u001b[0m \u001b[0;34m\u001b[0m\u001b[0m\n\u001b[1;32m    901\u001b[0m     \u001b[0;32mdef\u001b[0m \u001b[0m__delitem__\u001b[0m\u001b[0;34m(\u001b[0m\u001b[0mself\u001b[0m\u001b[0;34m,\u001b[0m \u001b[0mkey\u001b[0m\u001b[0;34m)\u001b[0m\u001b[0;34m:\u001b[0m\u001b[0;34m\u001b[0m\u001b[0m\n",
      "\u001b[0;32m/usr/local/lib/python2.7/site-packages/xarray/core/dataset.pyc\u001b[0m in \u001b[0;36mupdate\u001b[0;34m(self, other, inplace)\u001b[0m\n\u001b[1;32m   2303\u001b[0m             \u001b[0mdataset\u001b[0m\u001b[0;34m.\u001b[0m\u001b[0;34m\u001b[0m\u001b[0m\n\u001b[1;32m   2304\u001b[0m         \"\"\"\n\u001b[0;32m-> 2305\u001b[0;31m         \u001b[0mvariables\u001b[0m\u001b[0;34m,\u001b[0m \u001b[0mcoord_names\u001b[0m\u001b[0;34m,\u001b[0m \u001b[0mdims\u001b[0m \u001b[0;34m=\u001b[0m \u001b[0mdataset_update_method\u001b[0m\u001b[0;34m(\u001b[0m\u001b[0mself\u001b[0m\u001b[0;34m,\u001b[0m \u001b[0mother\u001b[0m\u001b[0;34m)\u001b[0m\u001b[0;34m\u001b[0m\u001b[0m\n\u001b[0m\u001b[1;32m   2306\u001b[0m \u001b[0;34m\u001b[0m\u001b[0m\n\u001b[1;32m   2307\u001b[0m         return self._replace_vars_and_dims(variables, coord_names, dims,\n",
      "\u001b[0;32m/usr/local/lib/python2.7/site-packages/xarray/core/merge.pyc\u001b[0m in \u001b[0;36mdataset_update_method\u001b[0;34m(dataset, other)\u001b[0m\n\u001b[1;32m    578\u001b[0m \u001b[0;34m\u001b[0m\u001b[0m\n\u001b[1;32m    579\u001b[0m     return merge_core([dataset, other], priority_arg=1,\n\u001b[0;32m--> 580\u001b[0;31m                       indexes=dataset.indexes)\n\u001b[0m",
      "\u001b[0;32m/usr/local/lib/python2.7/site-packages/xarray/core/merge.pyc\u001b[0m in \u001b[0;36mmerge_core\u001b[0;34m(objs, compat, join, priority_arg, explicit_coords, indexes)\u001b[0m\n\u001b[1;32m    432\u001b[0m \u001b[0;34m\u001b[0m\u001b[0m\n\u001b[1;32m    433\u001b[0m     \u001b[0mcoerced\u001b[0m \u001b[0;34m=\u001b[0m \u001b[0mcoerce_pandas_values\u001b[0m\u001b[0;34m(\u001b[0m\u001b[0mobjs\u001b[0m\u001b[0;34m)\u001b[0m\u001b[0;34m\u001b[0m\u001b[0m\n\u001b[0;32m--> 434\u001b[0;31m     \u001b[0maligned\u001b[0m \u001b[0;34m=\u001b[0m \u001b[0mdeep_align\u001b[0m\u001b[0;34m(\u001b[0m\u001b[0mcoerced\u001b[0m\u001b[0;34m,\u001b[0m \u001b[0mjoin\u001b[0m\u001b[0;34m=\u001b[0m\u001b[0mjoin\u001b[0m\u001b[0;34m,\u001b[0m \u001b[0mcopy\u001b[0m\u001b[0;34m=\u001b[0m\u001b[0mFalse\u001b[0m\u001b[0;34m,\u001b[0m \u001b[0mindexes\u001b[0m\u001b[0;34m=\u001b[0m\u001b[0mindexes\u001b[0m\u001b[0;34m)\u001b[0m\u001b[0;34m\u001b[0m\u001b[0m\n\u001b[0m\u001b[1;32m    435\u001b[0m     \u001b[0mexpanded\u001b[0m \u001b[0;34m=\u001b[0m \u001b[0mexpand_variable_dicts\u001b[0m\u001b[0;34m(\u001b[0m\u001b[0maligned\u001b[0m\u001b[0;34m)\u001b[0m\u001b[0;34m\u001b[0m\u001b[0m\n\u001b[1;32m    436\u001b[0m \u001b[0;34m\u001b[0m\u001b[0m\n",
      "\u001b[0;32m/usr/local/lib/python2.7/site-packages/xarray/core/alignment.pyc\u001b[0m in \u001b[0;36mdeep_align\u001b[0;34m(objects, join, copy, indexes, exclude, raise_on_invalid)\u001b[0m\n\u001b[1;32m    211\u001b[0m \u001b[0;34m\u001b[0m\u001b[0m\n\u001b[1;32m    212\u001b[0m     aligned = align(*targets, join=join, copy=copy, indexes=indexes,\n\u001b[0;32m--> 213\u001b[0;31m                     exclude=exclude)\n\u001b[0m\u001b[1;32m    214\u001b[0m \u001b[0;34m\u001b[0m\u001b[0m\n\u001b[1;32m    215\u001b[0m     \u001b[0;32mfor\u001b[0m \u001b[0mposition\u001b[0m\u001b[0;34m,\u001b[0m \u001b[0mkey\u001b[0m\u001b[0;34m,\u001b[0m \u001b[0maligned_obj\u001b[0m \u001b[0;32min\u001b[0m \u001b[0mzip\u001b[0m\u001b[0;34m(\u001b[0m\u001b[0mpositions\u001b[0m\u001b[0;34m,\u001b[0m \u001b[0mkeys\u001b[0m\u001b[0;34m,\u001b[0m \u001b[0maligned\u001b[0m\u001b[0;34m)\u001b[0m\u001b[0;34m:\u001b[0m\u001b[0;34m\u001b[0m\u001b[0m\n",
      "\u001b[0;32m/usr/local/lib/python2.7/site-packages/xarray/core/alignment.pyc\u001b[0m in \u001b[0;36malign\u001b[0;34m(*objects, **kwargs)\u001b[0m\n\u001b[1;32m    103\u001b[0m             \u001b[0;32mif\u001b[0m \u001b[0mdim\u001b[0m \u001b[0;32mnot\u001b[0m \u001b[0;32min\u001b[0m \u001b[0mexclude\u001b[0m\u001b[0;34m:\u001b[0m\u001b[0;34m\u001b[0m\u001b[0m\n\u001b[1;32m    104\u001b[0m                 \u001b[0;32mtry\u001b[0m\u001b[0;34m:\u001b[0m\u001b[0;34m\u001b[0m\u001b[0m\n\u001b[0;32m--> 105\u001b[0;31m                     \u001b[0mindex\u001b[0m \u001b[0;34m=\u001b[0m \u001b[0mobj\u001b[0m\u001b[0;34m.\u001b[0m\u001b[0mindexes\u001b[0m\u001b[0;34m[\u001b[0m\u001b[0mdim\u001b[0m\u001b[0;34m]\u001b[0m\u001b[0;34m\u001b[0m\u001b[0m\n\u001b[0m\u001b[1;32m    106\u001b[0m                 \u001b[0;32mexcept\u001b[0m \u001b[0mKeyError\u001b[0m\u001b[0;34m:\u001b[0m\u001b[0;34m\u001b[0m\u001b[0m\n\u001b[1;32m    107\u001b[0m                     \u001b[0munlabeled_dim_sizes\u001b[0m\u001b[0;34m[\u001b[0m\u001b[0mdim\u001b[0m\u001b[0;34m]\u001b[0m\u001b[0;34m.\u001b[0m\u001b[0madd\u001b[0m\u001b[0;34m(\u001b[0m\u001b[0mobj\u001b[0m\u001b[0;34m.\u001b[0m\u001b[0msizes\u001b[0m\u001b[0;34m[\u001b[0m\u001b[0mdim\u001b[0m\u001b[0;34m]\u001b[0m\u001b[0;34m)\u001b[0m\u001b[0;34m\u001b[0m\u001b[0m\n",
      "\u001b[0;32m/usr/local/lib/python2.7/site-packages/xarray/core/coordinates.pyc\u001b[0m in \u001b[0;36m__getitem__\u001b[0;34m(self, key)\u001b[0m\n\u001b[1;32m    309\u001b[0m         \u001b[0;32mif\u001b[0m \u001b[0mkey\u001b[0m \u001b[0;32mnot\u001b[0m \u001b[0;32min\u001b[0m \u001b[0mself\u001b[0m\u001b[0;34m.\u001b[0m\u001b[0m_sizes\u001b[0m\u001b[0;34m:\u001b[0m\u001b[0;34m\u001b[0m\u001b[0m\n\u001b[1;32m    310\u001b[0m             \u001b[0;32mraise\u001b[0m \u001b[0mKeyError\u001b[0m\u001b[0;34m(\u001b[0m\u001b[0mkey\u001b[0m\u001b[0;34m)\u001b[0m\u001b[0;34m\u001b[0m\u001b[0m\n\u001b[0;32m--> 311\u001b[0;31m         \u001b[0;32mreturn\u001b[0m \u001b[0mself\u001b[0m\u001b[0;34m.\u001b[0m\u001b[0m_variables\u001b[0m\u001b[0;34m[\u001b[0m\u001b[0mkey\u001b[0m\u001b[0;34m]\u001b[0m\u001b[0;34m.\u001b[0m\u001b[0mto_index\u001b[0m\u001b[0;34m(\u001b[0m\u001b[0;34m)\u001b[0m\u001b[0;34m\u001b[0m\u001b[0m\n\u001b[0m\u001b[1;32m    312\u001b[0m \u001b[0;34m\u001b[0m\u001b[0m\n\u001b[1;32m    313\u001b[0m     \u001b[0;32mdef\u001b[0m \u001b[0m__unicode__\u001b[0m\u001b[0;34m(\u001b[0m\u001b[0mself\u001b[0m\u001b[0;34m)\u001b[0m\u001b[0;34m:\u001b[0m\u001b[0;34m\u001b[0m\u001b[0m\n",
      "\u001b[0;32m/usr/local/lib/python2.7/site-packages/xarray/core/variable.pyc\u001b[0m in \u001b[0;36mto_index\u001b[0;34m(self)\u001b[0m\n\u001b[1;32m    407\u001b[0m     \u001b[0;32mdef\u001b[0m \u001b[0mto_index\u001b[0m\u001b[0;34m(\u001b[0m\u001b[0mself\u001b[0m\u001b[0;34m)\u001b[0m\u001b[0;34m:\u001b[0m\u001b[0;34m\u001b[0m\u001b[0m\n\u001b[1;32m    408\u001b[0m         \u001b[0;34m\"\"\"Convert this variable to a pandas.Index\"\"\"\u001b[0m\u001b[0;34m\u001b[0m\u001b[0m\n\u001b[0;32m--> 409\u001b[0;31m         \u001b[0;32mreturn\u001b[0m \u001b[0mself\u001b[0m\u001b[0;34m.\u001b[0m\u001b[0mto_index_variable\u001b[0m\u001b[0;34m(\u001b[0m\u001b[0;34m)\u001b[0m\u001b[0;34m.\u001b[0m\u001b[0mto_index\u001b[0m\u001b[0;34m(\u001b[0m\u001b[0;34m)\u001b[0m\u001b[0;34m\u001b[0m\u001b[0m\n\u001b[0m\u001b[1;32m    410\u001b[0m \u001b[0;34m\u001b[0m\u001b[0m\n\u001b[1;32m    411\u001b[0m     \u001b[0;34m@\u001b[0m\u001b[0mproperty\u001b[0m\u001b[0;34m\u001b[0m\u001b[0m\n",
      "\u001b[0;32m/usr/local/lib/python2.7/site-packages/xarray/core/variable.pyc\u001b[0m in \u001b[0;36mto_index_variable\u001b[0;34m(self)\u001b[0m\n\u001b[1;32m    401\u001b[0m         \u001b[0;34m\"\"\"Return this variable as an xarray.IndexVariable\"\"\"\u001b[0m\u001b[0;34m\u001b[0m\u001b[0m\n\u001b[1;32m    402\u001b[0m         return IndexVariable(self.dims, self._data, self._attrs,\n\u001b[0;32m--> 403\u001b[0;31m                              encoding=self._encoding, fastpath=True)\n\u001b[0m\u001b[1;32m    404\u001b[0m \u001b[0;34m\u001b[0m\u001b[0m\n\u001b[1;32m    405\u001b[0m     \u001b[0mto_coord\u001b[0m \u001b[0;34m=\u001b[0m \u001b[0mutils\u001b[0m\u001b[0;34m.\u001b[0m\u001b[0malias\u001b[0m\u001b[0;34m(\u001b[0m\u001b[0mto_index_variable\u001b[0m\u001b[0;34m,\u001b[0m \u001b[0;34m'to_coord'\u001b[0m\u001b[0;34m)\u001b[0m\u001b[0;34m\u001b[0m\u001b[0m\n",
      "\u001b[0;32m/usr/local/lib/python2.7/site-packages/xarray/core/variable.pyc\u001b[0m in \u001b[0;36m__init__\u001b[0;34m(self, dims, data, attrs, encoding, fastpath)\u001b[0m\n\u001b[1;32m   1619\u001b[0m         \u001b[0;32mif\u001b[0m \u001b[0mself\u001b[0m\u001b[0;34m.\u001b[0m\u001b[0mndim\u001b[0m \u001b[0;34m!=\u001b[0m \u001b[0;36m1\u001b[0m\u001b[0;34m:\u001b[0m\u001b[0;34m\u001b[0m\u001b[0m\n\u001b[1;32m   1620\u001b[0m             raise ValueError('%s objects must be 1-dimensional' %\n\u001b[0;32m-> 1621\u001b[0;31m                              type(self).__name__)\n\u001b[0m\u001b[1;32m   1622\u001b[0m \u001b[0;34m\u001b[0m\u001b[0m\n\u001b[1;32m   1623\u001b[0m         \u001b[0;31m# Unlike in Variable, always eagerly load values into memory\u001b[0m\u001b[0;34m\u001b[0m\u001b[0;34m\u001b[0m\u001b[0m\n",
      "\u001b[0;31mValueError\u001b[0m: IndexVariable objects must be 1-dimensional"
     ]
    }
   ],
   "source": [
    "ds_disk['LAI_SUEWS']=xx"
   ]
  },
  {
   "cell_type": "code",
   "execution_count": 91,
   "metadata": {},
   "outputs": [
    {
     "data": {
      "text/plain": [
       "<xarray.DataArray 'XLAT' (Time: 1, south_north: 5, west_east: 5)>\n",
       "array([[[30.308304, 30.314632, 30.316753, 30.314632, 30.308304],\n",
       "        [30.849247, 30.85564 , 30.857784, 30.85564 , 30.849247],\n",
       "        [31.3914  , 31.397861, 31.40002 , 31.397861, 31.3914  ],\n",
       "        [31.93472 , 31.94125 , 31.943428, 31.94125 , 31.93472 ],\n",
       "        [32.479176, 32.485775, 32.48798 , 32.485775, 32.479176]]],\n",
       "      dtype=float32)\n",
       "Coordinates:\n",
       "    XLAT     (Time, south_north, west_east) float32 30.308304 30.314632 ...\n",
       "    XLONG    (Time, south_north, west_east) float32 ...\n",
       "Dimensions without coordinates: Time, south_north, west_east\n",
       "Attributes:\n",
       "    FieldType:    104\n",
       "    MemoryOrder:  XY \n",
       "    description:  LATITUDE, SOUTH IS NEGATIVE\n",
       "    units:        degree_north\n",
       "    stagger:      "
      ]
     },
     "execution_count": 91,
     "metadata": {},
     "output_type": "execute_result"
    }
   ],
   "source": [
    "xx=ds_disk['T2'].copy()\n",
    "yy=np.repeat(xx.expand_dims('nsurf',axis=2),5,axis=2)\n",
    "yy"
   ]
  },
  {
   "cell_type": "code",
   "execution_count": 129,
   "metadata": {},
   "outputs": [
    {
     "data": {
      "text/plain": [
       "<xarray.DataArray (dim_0: 1, dim_1: 5, dim_2: 7, dim_3: 5)>\n",
       "array([[[[1., 1., 1., 1., 1.],\n",
       "         [1., 1., 1., 1., 1.],\n",
       "         [1., 1., 1., 1., 1.],\n",
       "         [1., 1., 1., 1., 1.],\n",
       "         [1., 1., 1., 1., 1.],\n",
       "         [1., 1., 1., 1., 1.],\n",
       "         [1., 1., 1., 1., 1.]],\n",
       "\n",
       "        [[1., 1., 1., 1., 1.],\n",
       "         [1., 1., 1., 1., 1.],\n",
       "         [1., 1., 1., 1., 1.],\n",
       "         [1., 1., 1., 1., 1.],\n",
       "         [1., 1., 1., 1., 1.],\n",
       "         [1., 1., 1., 1., 1.],\n",
       "         [1., 1., 1., 1., 1.]],\n",
       "\n",
       "        [[1., 1., 1., 1., 1.],\n",
       "         [1., 1., 1., 1., 1.],\n",
       "         [1., 1., 1., 1., 1.],\n",
       "         [1., 1., 1., 1., 1.],\n",
       "         [1., 1., 1., 1., 1.],\n",
       "         [1., 1., 1., 1., 1.],\n",
       "         [1., 1., 1., 1., 1.]],\n",
       "\n",
       "        [[1., 1., 1., 1., 1.],\n",
       "         [1., 1., 1., 1., 1.],\n",
       "         [1., 1., 1., 1., 1.],\n",
       "         [1., 1., 1., 1., 1.],\n",
       "         [1., 1., 1., 1., 1.],\n",
       "         [1., 1., 1., 1., 1.],\n",
       "         [1., 1., 1., 1., 1.]],\n",
       "\n",
       "        [[1., 1., 1., 1., 1.],\n",
       "         [1., 1., 1., 1., 1.],\n",
       "         [1., 1., 1., 1., 1.],\n",
       "         [1., 1., 1., 1., 1.],\n",
       "         [1., 1., 1., 1., 1.],\n",
       "         [1., 1., 1., 1., 1.],\n",
       "         [1., 1., 1., 1., 1.]]]])\n",
       "Dimensions without coordinates: dim_0, dim_1, dim_2, dim_3"
      ]
     },
     "execution_count": 129,
     "metadata": {},
     "output_type": "execute_result"
    }
   ],
   "source": [
    "xx=xr.DataArray(np.ones((1,5,7,5)))\n",
    "xx"
   ]
  },
  {
   "cell_type": "code",
   "execution_count": 124,
   "metadata": {},
   "outputs": [
    {
     "data": {
      "text/plain": [
       "<xarray.DataArray 'XLAT' (Time: 1, south_north: 5, west_east: 5)>\n",
       "array([[[30.308304, 30.314632, 30.316753, 30.314632, 30.308304],\n",
       "        [30.849247, 30.85564 , 30.857784, 30.85564 , 30.849247],\n",
       "        [31.3914  , 31.397861, 31.40002 , 31.397861, 31.3914  ],\n",
       "        [31.93472 , 31.94125 , 31.943428, 31.94125 , 31.93472 ],\n",
       "        [32.479176, 32.485775, 32.48798 , 32.485775, 32.479176]]],\n",
       "      dtype=float32)\n",
       "Coordinates:\n",
       "    XLAT     (Time, south_north, west_east) float32 30.308304 30.314632 ...\n",
       "    XLONG    (Time, south_north, west_east) float32 ...\n",
       "Dimensions without coordinates: Time, south_north, west_east\n",
       "Attributes:\n",
       "    FieldType:    104\n",
       "    MemoryOrder:  XY \n",
       "    description:  LATITUDE, SOUTH IS NEGATIVE\n",
       "    units:        degree_north\n",
       "    stagger:      "
      ]
     },
     "execution_count": 124,
     "metadata": {},
     "output_type": "execute_result"
    }
   ],
   "source": [
    "ds_disk.coords['XLAT']"
   ]
  },
  {
   "cell_type": "code",
   "execution_count": 63,
   "metadata": {},
   "outputs": [
    {
     "name": "stdout",
     "output_type": "stream",
     "text": [
      "LU_INDEX\n",
      "VAR_SSO\n",
      "U\n",
      "V\n",
      "W\n",
      "PH\n",
      "PHB\n",
      "T\n",
      "T_INIT\n",
      "MU\n",
      "MUB\n",
      "P\n",
      "PB\n",
      "P_HYD\n",
      "Q2\n",
      "T2\n",
      "TH2\n",
      "PSFC\n",
      "U10\n",
      "V10\n",
      "QVAPOR\n",
      "QCLOUD\n",
      "QRAIN\n",
      "QICE\n",
      "QSNOW\n",
      "QGRAUP\n",
      "QNICE\n",
      "QNRAIN\n",
      "TOPOSLPX\n",
      "TOPOSLPY\n",
      "SHDMAX\n",
      "SHDMIN\n",
      "SNOALB\n",
      "LANDUSEF\n",
      "SOILCTOP\n",
      "SOILCBOT\n",
      "TSLB\n",
      "SMOIS\n",
      "SH2O\n",
      "SEAICE\n",
      "IVGTYP\n",
      "ISLTYP\n",
      "VEGFRA\n",
      "SNOW\n",
      "SNOWH\n",
      "CANWAT\n",
      "LAKE_DEPTH\n",
      "UOCE\n",
      "VOCE\n",
      "FRC_URB2D\n",
      "LAI\n",
      "VAR\n",
      "CON\n",
      "OA1\n",
      "OA2\n",
      "OA3\n",
      "OA4\n",
      "OL1\n",
      "OL2\n",
      "OL3\n",
      "OL4\n",
      "O3RAD\n",
      "MAPFAC_M\n",
      "MAPFAC_U\n",
      "MAPFAC_V\n",
      "MAPFAC_MX\n",
      "MAPFAC_MY\n",
      "MAPFAC_UX\n",
      "MAPFAC_UY\n",
      "MAPFAC_VX\n",
      "MF_VX_INV\n",
      "MAPFAC_VY\n",
      "F\n",
      "E\n",
      "SINALPHA\n",
      "COSALPHA\n",
      "HGT\n",
      "TSK\n",
      "CLAT\n",
      "ALBBCK\n",
      "TMN\n",
      "XLAND\n",
      "CPLMASK\n",
      "SNOWC\n",
      "SR\n",
      "PCB\n",
      "PC\n",
      "LANDMASK\n",
      "LAKEMASK\n",
      "SST\n"
     ]
    }
   ],
   "source": [
    "for var in ds_disk.data_vars.keys():\n",
    "    if 'coordinates' in ds_disk[var].attrs:\n",
    "        print var\n",
    "        del ds_disk[var].attrs['coordinates']"
   ]
  },
  {
   "cell_type": "code",
   "execution_count": 64,
   "metadata": {
    "collapsed": true
   },
   "outputs": [],
   "source": [
    "ds_disk.to_netcdf('xx.nc')"
   ]
  },
  {
   "cell_type": "code",
   "execution_count": 21,
   "metadata": {
    "collapsed": true
   },
   "outputs": [],
   "source": [
    "da_test.name='LAI_SUEWS'"
   ]
  },
  {
   "cell_type": "code",
   "execution_count": 29,
   "metadata": {},
   "outputs": [
    {
     "data": {
      "text/plain": [
       "<xarray.DataArray 'LAI_SUEWS' (Time: 1, soil_layers_stag: 5, south_north: 5, west_east: 5)>\n",
       "array([[[[0., 0., 0., 0., 0.],\n",
       "         [0., 0., 0., 0., 0.],\n",
       "         [0., 0., 0., 0., 0.],\n",
       "         [0., 0., 0., 0., 0.],\n",
       "         [0., 0., 0., 0., 0.]],\n",
       "\n",
       "        [[0., 0., 0., 0., 0.],\n",
       "         [0., 0., 0., 0., 0.],\n",
       "         [0., 0., 0., 0., 0.],\n",
       "         [0., 0., 0., 0., 0.],\n",
       "         [0., 0., 0., 0., 0.]],\n",
       "\n",
       "        [[0., 0., 0., 0., 0.],\n",
       "         [0., 0., 0., 0., 0.],\n",
       "         [0., 0., 0., 0., 0.],\n",
       "         [0., 0., 0., 0., 0.],\n",
       "         [0., 0., 0., 0., 0.]],\n",
       "\n",
       "        [[0., 0., 0., 0., 0.],\n",
       "         [0., 0., 0., 0., 0.],\n",
       "         [0., 0., 0., 0., 0.],\n",
       "         [0., 0., 0., 0., 0.],\n",
       "         [0., 0., 0., 0., 0.]],\n",
       "\n",
       "        [[0., 0., 0., 0., 0.],\n",
       "         [0., 0., 0., 0., 0.],\n",
       "         [0., 0., 0., 0., 0.],\n",
       "         [0., 0., 0., 0., 0.],\n",
       "         [0., 0., 0., 0., 0.]]]], dtype=float32)\n",
       "Coordinates:\n",
       "    XLAT     (Time, south_north, west_east) float32 30.308304 30.314632 ...\n",
       "    XLONG    (Time, south_north, west_east) float32 120.14807 120.77399 ...\n",
       "Dimensions without coordinates: Time, soil_layers_stag, south_north, west_east\n",
       "Attributes:\n",
       "    FieldType:    104\n",
       "    MemoryOrder:  XYZ\n",
       "    description:  test var for SUEWS\n",
       "    units:        m3 m-3\n",
       "    stagger:      Z\n",
       "    coordinates:  XLONG XLAT XTIME"
      ]
     },
     "execution_count": 29,
     "metadata": {},
     "output_type": "execute_result"
    }
   ],
   "source": [
    "da_test.attrs.update(description='test var for SUEWS')\n",
    "da_test"
   ]
  },
  {
   "cell_type": "code",
   "execution_count": 48,
   "metadata": {
    "collapsed": true,
    "scrolled": true
   },
   "outputs": [],
   "source": [
    "ds_disk[['T2','Q2']].to_netcdf('xx.nc',mode='w',format='NETCDF3_CLASSIC')"
   ]
  },
  {
   "cell_type": "code",
   "execution_count": 47,
   "metadata": {},
   "outputs": [
    {
     "ename": "KeyError",
     "evalue": "'coordinates'",
     "output_type": "error",
     "traceback": [
      "\u001b[0;31m---------------------------------------------------------------------------\u001b[0m",
      "\u001b[0;31mKeyError\u001b[0m                                  Traceback (most recent call last)",
      "\u001b[0;32m<ipython-input-47-9f2ef08105a1>\u001b[0m in \u001b[0;36m<module>\u001b[0;34m()\u001b[0m\n\u001b[1;32m      1\u001b[0m \u001b[0;32mdel\u001b[0m \u001b[0mds_disk\u001b[0m\u001b[0;34m[\u001b[0m\u001b[0;34m'Q2'\u001b[0m\u001b[0;34m]\u001b[0m\u001b[0;34m.\u001b[0m\u001b[0mattrs\u001b[0m\u001b[0;34m[\u001b[0m\u001b[0;34m'coordinates'\u001b[0m\u001b[0;34m]\u001b[0m\u001b[0;34m\u001b[0m\u001b[0m\n\u001b[0;32m----> 2\u001b[0;31m \u001b[0;32mdel\u001b[0m \u001b[0mds_disk\u001b[0m\u001b[0;34m[\u001b[0m\u001b[0;34m'T2'\u001b[0m\u001b[0;34m]\u001b[0m\u001b[0;34m.\u001b[0m\u001b[0mattrs\u001b[0m\u001b[0;34m[\u001b[0m\u001b[0;34m'coordinates'\u001b[0m\u001b[0;34m]\u001b[0m\u001b[0;34m\u001b[0m\u001b[0m\n\u001b[0m",
      "\u001b[0;32m/usr/local/Cellar/python@2/2.7.15_1/Frameworks/Python.framework/Versions/2.7/lib/python2.7/collections.pyc\u001b[0m in \u001b[0;36m__delitem__\u001b[0;34m(self, key, dict_delitem)\u001b[0m\n\u001b[1;32m     83\u001b[0m         \u001b[0;31m# Deleting an existing item uses self.__map to find the link which gets\u001b[0m\u001b[0;34m\u001b[0m\u001b[0;34m\u001b[0m\u001b[0m\n\u001b[1;32m     84\u001b[0m         \u001b[0;31m# removed by updating the links in the predecessor and successor nodes.\u001b[0m\u001b[0;34m\u001b[0m\u001b[0;34m\u001b[0m\u001b[0m\n\u001b[0;32m---> 85\u001b[0;31m         \u001b[0mdict_delitem\u001b[0m\u001b[0;34m(\u001b[0m\u001b[0mself\u001b[0m\u001b[0;34m,\u001b[0m \u001b[0mkey\u001b[0m\u001b[0;34m)\u001b[0m\u001b[0;34m\u001b[0m\u001b[0m\n\u001b[0m\u001b[1;32m     86\u001b[0m         \u001b[0mlink_prev\u001b[0m\u001b[0;34m,\u001b[0m \u001b[0mlink_next\u001b[0m\u001b[0;34m,\u001b[0m \u001b[0m_\u001b[0m \u001b[0;34m=\u001b[0m \u001b[0mself\u001b[0m\u001b[0;34m.\u001b[0m\u001b[0m__map\u001b[0m\u001b[0;34m.\u001b[0m\u001b[0mpop\u001b[0m\u001b[0;34m(\u001b[0m\u001b[0mkey\u001b[0m\u001b[0;34m)\u001b[0m\u001b[0;34m\u001b[0m\u001b[0m\n\u001b[1;32m     87\u001b[0m         \u001b[0mlink_prev\u001b[0m\u001b[0;34m[\u001b[0m\u001b[0;36m1\u001b[0m\u001b[0;34m]\u001b[0m \u001b[0;34m=\u001b[0m \u001b[0mlink_next\u001b[0m                        \u001b[0;31m# update link_prev[NEXT]\u001b[0m\u001b[0;34m\u001b[0m\u001b[0m\n",
      "\u001b[0;31mKeyError\u001b[0m: 'coordinates'"
     ]
    }
   ],
   "source": [
    "del ds_disk['Q2'].attrs['coordinates']\n",
    "del ds_disk['T2'].attrs['coordinates']"
   ]
  },
  {
   "cell_type": "code",
   "execution_count": 50,
   "metadata": {
    "collapsed": true
   },
   "outputs": [],
   "source": [
    "ds_xx=xr.open_dataset('xx.nc')"
   ]
  },
  {
   "cell_type": "code",
   "execution_count": 51,
   "metadata": {},
   "outputs": [
    {
     "data": {
      "text/plain": [
       "<xarray.DataArray 'T2' (Time: 1, south_north: 5, west_east: 5)>\n",
       "array([[[300.1549 , 300.70944, 300.75793, 300.6841 , 301.5533 ],\n",
       "        [299.93634, 300.7561 , 300.90884, 300.77087, 301.417  ],\n",
       "        [300.08154, 301.05988, 301.24698, 301.01898, 301.45047],\n",
       "        [300.36032, 301.37555, 301.56662, 301.29016, 301.5196 ],\n",
       "        [300.4331 , 301.2165 , 301.41998, 301.27975, 301.3872 ]]],\n",
       "      dtype=float32)\n",
       "Coordinates:\n",
       "    XLAT     (Time, south_north, west_east) float32 ...\n",
       "    XLONG    (Time, south_north, west_east) float32 ...\n",
       "Dimensions without coordinates: Time, south_north, west_east\n",
       "Attributes:\n",
       "    FieldType:    104\n",
       "    MemoryOrder:  XY \n",
       "    description:  TEMP at 2 M\n",
       "    units:        K\n",
       "    stagger:      "
      ]
     },
     "execution_count": 51,
     "metadata": {},
     "output_type": "execute_result"
    }
   ],
   "source": [
    "ds_xx['T2']"
   ]
  },
  {
   "cell_type": "code",
   "execution_count": null,
   "metadata": {
    "collapsed": true
   },
   "outputs": [],
   "source": []
  }
 ],
 "metadata": {
  "kernelspec": {
   "display_name": "Python 2",
   "language": "python",
   "name": "python2"
  },
  "language_info": {
   "codemirror_mode": {
    "name": "ipython",
    "version": 2
   },
   "file_extension": ".py",
   "mimetype": "text/x-python",
   "name": "python",
   "nbconvert_exporter": "python",
   "pygments_lexer": "ipython2",
   "version": "2.7.15"
  }
 },
 "nbformat": 4,
 "nbformat_minor": 2
}
